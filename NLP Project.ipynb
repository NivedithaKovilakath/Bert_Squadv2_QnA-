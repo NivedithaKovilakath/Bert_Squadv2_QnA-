{
  "cells": [
    {
      "cell_type": "code",
      "execution_count": null,
      "metadata": {
        "colab": {
          "base_uri": "https://localhost:8080/"
        },
        "id": "UnURV5y73cFh",
        "outputId": "bd2ad285-af31-42e3-cfb4-1fc11bd4a7cd"
      },
      "outputs": [
        {
          "name": "stdout",
          "output_type": "stream",
          "text": [
            "Requirement already satisfied: transformers in /usr/local/lib/python3.10/dist-packages (4.35.2)\n",
            "Requirement already satisfied: filelock in /usr/local/lib/python3.10/dist-packages (from transformers) (3.13.1)\n",
            "Requirement already satisfied: huggingface-hub<1.0,>=0.16.4 in /usr/local/lib/python3.10/dist-packages (from transformers) (0.19.4)\n",
            "Requirement already satisfied: numpy>=1.17 in /usr/local/lib/python3.10/dist-packages (from transformers) (1.23.5)\n",
            "Requirement already satisfied: packaging>=20.0 in /usr/local/lib/python3.10/dist-packages (from transformers) (23.2)\n",
            "Requirement already satisfied: pyyaml>=5.1 in /usr/local/lib/python3.10/dist-packages (from transformers) (6.0.1)\n",
            "Requirement already satisfied: regex!=2019.12.17 in /usr/local/lib/python3.10/dist-packages (from transformers) (2023.6.3)\n",
            "Requirement already satisfied: requests in /usr/local/lib/python3.10/dist-packages (from transformers) (2.31.0)\n",
            "Requirement already satisfied: tokenizers<0.19,>=0.14 in /usr/local/lib/python3.10/dist-packages (from transformers) (0.15.0)\n",
            "Requirement already satisfied: safetensors>=0.3.1 in /usr/local/lib/python3.10/dist-packages (from transformers) (0.4.0)\n",
            "Requirement already satisfied: tqdm>=4.27 in /usr/local/lib/python3.10/dist-packages (from transformers) (4.66.1)\n",
            "Requirement already satisfied: fsspec>=2023.5.0 in /usr/local/lib/python3.10/dist-packages (from huggingface-hub<1.0,>=0.16.4->transformers) (2023.6.0)\n",
            "Requirement already satisfied: typing-extensions>=3.7.4.3 in /usr/local/lib/python3.10/dist-packages (from huggingface-hub<1.0,>=0.16.4->transformers) (4.5.0)\n",
            "Requirement already satisfied: charset-normalizer<4,>=2 in /usr/local/lib/python3.10/dist-packages (from requests->transformers) (3.3.2)\n",
            "Requirement already satisfied: idna<4,>=2.5 in /usr/local/lib/python3.10/dist-packages (from requests->transformers) (3.4)\n",
            "Requirement already satisfied: urllib3<3,>=1.21.1 in /usr/local/lib/python3.10/dist-packages (from requests->transformers) (2.0.7)\n",
            "Requirement already satisfied: certifi>=2017.4.17 in /usr/local/lib/python3.10/dist-packages (from requests->transformers) (2023.7.22)\n"
          ]
        }
      ],
      "source": [
        "!pip install transformers"
      ]
    },
    {
      "cell_type": "code",
      "execution_count": null,
      "metadata": {
        "colab": {
          "base_uri": "https://localhost:8080/"
        },
        "id": "mQuPfHc45sjB",
        "outputId": "e5512f20-c5ba-4c9c-d33d-d883d6cb6ab0"
      },
      "outputs": [
        {
          "name": "stdout",
          "output_type": "stream",
          "text": [
            "Collecting datasets\n",
            "  Downloading datasets-2.15.0-py3-none-any.whl (521 kB)\n",
            "\u001b[2K     \u001b[90m━━━━━━━━━━━━━━━━━━━━━━━━━━━━━━━━━━━━━━━━\u001b[0m \u001b[32m521.2/521.2 kB\u001b[0m \u001b[31m7.8 MB/s\u001b[0m eta \u001b[36m0:00:00\u001b[0m\n",
            "\u001b[?25hRequirement already satisfied: numpy>=1.17 in /usr/local/lib/python3.10/dist-packages (from datasets) (1.23.5)\n",
            "Requirement already satisfied: pyarrow>=8.0.0 in /usr/local/lib/python3.10/dist-packages (from datasets) (9.0.0)\n",
            "Collecting pyarrow-hotfix (from datasets)\n",
            "  Downloading pyarrow_hotfix-0.6-py3-none-any.whl (7.9 kB)\n",
            "Collecting dill<0.3.8,>=0.3.0 (from datasets)\n",
            "  Downloading dill-0.3.7-py3-none-any.whl (115 kB)\n",
            "\u001b[2K     \u001b[90m━━━━━━━━━━━━━━━━━━━━━━━━━━━━━━━━━━━━━━━━\u001b[0m \u001b[32m115.3/115.3 kB\u001b[0m \u001b[31m17.0 MB/s\u001b[0m eta \u001b[36m0:00:00\u001b[0m\n",
            "\u001b[?25hRequirement already satisfied: pandas in /usr/local/lib/python3.10/dist-packages (from datasets) (1.5.3)\n",
            "Requirement already satisfied: requests>=2.19.0 in /usr/local/lib/python3.10/dist-packages (from datasets) (2.31.0)\n",
            "Requirement already satisfied: tqdm>=4.62.1 in /usr/local/lib/python3.10/dist-packages (from datasets) (4.66.1)\n",
            "Requirement already satisfied: xxhash in /usr/local/lib/python3.10/dist-packages (from datasets) (3.4.1)\n",
            "Collecting multiprocess (from datasets)\n",
            "  Downloading multiprocess-0.70.15-py310-none-any.whl (134 kB)\n",
            "\u001b[2K     \u001b[90m━━━━━━━━━━━━━━━━━━━━━━━━━━━━━━━━━━━━━━━━\u001b[0m \u001b[32m134.8/134.8 kB\u001b[0m \u001b[31m20.4 MB/s\u001b[0m eta \u001b[36m0:00:00\u001b[0m\n",
            "\u001b[?25hRequirement already satisfied: fsspec[http]<=2023.10.0,>=2023.1.0 in /usr/local/lib/python3.10/dist-packages (from datasets) (2023.6.0)\n",
            "Requirement already satisfied: aiohttp in /usr/local/lib/python3.10/dist-packages (from datasets) (3.8.6)\n",
            "Requirement already satisfied: huggingface-hub>=0.18.0 in /usr/local/lib/python3.10/dist-packages (from datasets) (0.19.4)\n",
            "Requirement already satisfied: packaging in /usr/local/lib/python3.10/dist-packages (from datasets) (23.2)\n",
            "Requirement already satisfied: pyyaml>=5.1 in /usr/local/lib/python3.10/dist-packages (from datasets) (6.0.1)\n",
            "Requirement already satisfied: attrs>=17.3.0 in /usr/local/lib/python3.10/dist-packages (from aiohttp->datasets) (23.1.0)\n",
            "Requirement already satisfied: charset-normalizer<4.0,>=2.0 in /usr/local/lib/python3.10/dist-packages (from aiohttp->datasets) (3.3.2)\n",
            "Requirement already satisfied: multidict<7.0,>=4.5 in /usr/local/lib/python3.10/dist-packages (from aiohttp->datasets) (6.0.4)\n",
            "Requirement already satisfied: async-timeout<5.0,>=4.0.0a3 in /usr/local/lib/python3.10/dist-packages (from aiohttp->datasets) (4.0.3)\n",
            "Requirement already satisfied: yarl<2.0,>=1.0 in /usr/local/lib/python3.10/dist-packages (from aiohttp->datasets) (1.9.2)\n",
            "Requirement already satisfied: frozenlist>=1.1.1 in /usr/local/lib/python3.10/dist-packages (from aiohttp->datasets) (1.4.0)\n",
            "Requirement already satisfied: aiosignal>=1.1.2 in /usr/local/lib/python3.10/dist-packages (from aiohttp->datasets) (1.3.1)\n",
            "Requirement already satisfied: filelock in /usr/local/lib/python3.10/dist-packages (from huggingface-hub>=0.18.0->datasets) (3.13.1)\n",
            "Requirement already satisfied: typing-extensions>=3.7.4.3 in /usr/local/lib/python3.10/dist-packages (from huggingface-hub>=0.18.0->datasets) (4.5.0)\n",
            "Requirement already satisfied: idna<4,>=2.5 in /usr/local/lib/python3.10/dist-packages (from requests>=2.19.0->datasets) (3.4)\n",
            "Requirement already satisfied: urllib3<3,>=1.21.1 in /usr/local/lib/python3.10/dist-packages (from requests>=2.19.0->datasets) (2.0.7)\n",
            "Requirement already satisfied: certifi>=2017.4.17 in /usr/local/lib/python3.10/dist-packages (from requests>=2.19.0->datasets) (2023.7.22)\n",
            "Requirement already satisfied: python-dateutil>=2.8.1 in /usr/local/lib/python3.10/dist-packages (from pandas->datasets) (2.8.2)\n",
            "Requirement already satisfied: pytz>=2020.1 in /usr/local/lib/python3.10/dist-packages (from pandas->datasets) (2023.3.post1)\n",
            "Requirement already satisfied: six>=1.5 in /usr/local/lib/python3.10/dist-packages (from python-dateutil>=2.8.1->pandas->datasets) (1.16.0)\n",
            "Installing collected packages: pyarrow-hotfix, dill, multiprocess, datasets\n",
            "Successfully installed datasets-2.15.0 dill-0.3.7 multiprocess-0.70.15 pyarrow-hotfix-0.6\n"
          ]
        }
      ],
      "source": [
        "!pip install datasets"
      ]
    },
    {
      "cell_type": "code",
      "execution_count": null,
      "metadata": {
        "id": "kRJmX8PY1vxv"
      },
      "outputs": [],
      "source": [
        "#load all libraries\n",
        "import torch\n",
        "import torch.nn as nn\n",
        "import torch.nn.functional as F\n",
        "import os\n",
        "from tqdm import tqdm\n",
        "from transformers import BertModel, BertTokenizerFast, AdamW, AutoTokenizer, AutoModelForQuestionAnswering, BertTokenizer, BertForQuestionAnswering\n",
        "from torch.utils.data import Dataset, DataLoader\n",
        "from torch.optim.lr_scheduler import ExponentialLR\n",
        "import matplotlib.pyplot as plt"
      ]
    },
    {
      "cell_type": "markdown",
      "metadata": {
        "id": "xVfxtl7pQi3Y"
      },
      "source": [
        "###Extrinsic"
      ]
    },
    {
      "cell_type": "code",
      "execution_count": null,
      "metadata": {
        "id": "IRJBhgMcQh9M"
      },
      "outputs": [],
      "source": [
        "import json\n",
        "\n",
        "# Specify the path to the downloaded NewsQA JSON file\n",
        "newsqa_file_path = \"combined-newsqa-data-v1.json\"\n",
        "\n",
        "# Load the JSON file\n",
        "with open(newsqa_file_path, \"r\", encoding=\"utf-8\") as file:\n",
        "    newsqa_data = json.load(file)\n",
        "\n",
        "# Now `newsqa_data` contains the entire NewsQA dataset\n",
        "# You can access different parts of the dataset based on its structure\n"
      ]
    },
    {
      "cell_type": "code",
      "execution_count": null,
      "metadata": {
        "id": "yyxOvC1CawsQ"
      },
      "outputs": [],
      "source": [
        "!git clone https://github.com/amazon-science/qa-dataset-converter"
      ]
    },
    {
      "cell_type": "code",
      "execution_count": null,
      "metadata": {
        "id": "S8IvE5JOawpJ"
      },
      "outputs": [],
      "source": [
        "!git clone https://github.com/mandarjoshi90/triviaqa"
      ]
    },
    {
      "cell_type": "code",
      "execution_count": null,
      "metadata": {
        "id": "64PC_BYTcBJK"
      },
      "outputs": [],
      "source": [
        "%cd qa-dataset-converter/newsqa"
      ]
    },
    {
      "cell_type": "code",
      "execution_count": null,
      "metadata": {
        "id": "MjzIkeaygKYg"
      },
      "outputs": [],
      "source": [
        "!ls"
      ]
    },
    {
      "cell_type": "code",
      "execution_count": null,
      "metadata": {
        "id": "5cM6UYizbtLS"
      },
      "outputs": [],
      "source": [
        "!python /content/qa-dataset-converter/newsqa/newsqa_to_squad.py --newsqa_file newsqa-data-v1.csv --output_file newsqa_dev.json"
      ]
    },
    {
      "cell_type": "markdown",
      "metadata": {
        "id": "JYq2YgHT4_QN"
      },
      "source": [
        "###Loading the dataset"
      ]
    },
    {
      "cell_type": "code",
      "execution_count": null,
      "metadata": {
        "colab": {
          "background_save": true
        },
        "id": "PM2jZi3T5hIx"
      },
      "outputs": [],
      "source": [
        "from datasets import load_dataset"
      ]
    },
    {
      "cell_type": "code",
      "execution_count": null,
      "metadata": {
        "id": "QYuzGjfp239U"
      },
      "outputs": [],
      "source": [
        "squad_dataset = load_dataset(\"squad_v2\")\n",
        "# Access the training split\n",
        "train_data = squad_dataset[\"train\"]\n",
        "# Access the validation split\n",
        "validation_data = squad_dataset[\"validation\"]"
      ]
    },
    {
      "cell_type": "code",
      "execution_count": null,
      "metadata": {
        "id": "x5K3myps50kW"
      },
      "outputs": [],
      "source": [
        "train_data[140]"
      ]
    },
    {
      "cell_type": "code",
      "execution_count": null,
      "metadata": {
        "id": "UqThi15q5_p5"
      },
      "outputs": [],
      "source": [
        "type(train_data)"
      ]
    },
    {
      "cell_type": "code",
      "execution_count": null,
      "metadata": {
        "id": "JLoaAcPT6C0A"
      },
      "outputs": [],
      "source": [
        "len(train_data)"
      ]
    },
    {
      "cell_type": "code",
      "execution_count": null,
      "metadata": {
        "id": "QRFuZbNS-GNA"
      },
      "outputs": [],
      "source": [
        "def get_data(data):\n",
        "  title_list = []\n",
        "  context_list = []\n",
        "  question_list = []\n",
        "  answer_list = []\n",
        "  num_questions = 0\n",
        "  num_questions_pos = 0\n",
        "  num_questions_impos = 0\n",
        "\n",
        "  for e in data:\n",
        "    num_questions += 1\n",
        "    if(e['answers']['text']==[]):\n",
        "      #impossible\n",
        "      num_questions_impos += 1\n",
        "    else:\n",
        "      title_list.append(e['title'])\n",
        "      context_list.append(e['context'])\n",
        "      question_list.append(e['question'])\n",
        "      e['answers']['text'] = e['answers']['text'][0]\n",
        "      e['answers']['answer_start'] = e['answers']['answer_start'][0]\n",
        "      answer_list.append(e['answers'])\n",
        "      num_questions_pos += 1\n",
        "\n",
        "  return title_list, context_list, question_list, answer_list, num_questions, num_questions_pos, num_questions_impos\n",
        "\n"
      ]
    },
    {
      "cell_type": "code",
      "execution_count": null,
      "metadata": {
        "id": "OrLUWRomDXyP"
      },
      "outputs": [],
      "source": [
        "title_list_train, context_list_train, question_list_train, answer_list_train, num_questions_train, num_questions_pos_train, num_questions_impos_train = get_data(train_data)"
      ]
    },
    {
      "cell_type": "code",
      "execution_count": null,
      "metadata": {
        "id": "0Ii2sXyV_6TE"
      },
      "outputs": [],
      "source": [
        "title_list_test, context_list_test, question_list_test, answer_list_test, num_questions_test, num_questions_pos_test, num_questions_impos_test= get_data(validation_data)"
      ]
    },
    {
      "cell_type": "code",
      "execution_count": null,
      "metadata": {
        "id": "AgVHjE3A6HfY"
      },
      "outputs": [],
      "source": [
        "print(f\"Total number of questions: {num_questions_train+num_questions_test}\")\n",
        "print(num_questions_test)\n",
        "print(f\"Total number of Answerable questions: {num_questions_pos_train+num_questions_pos_test}\")\n",
        "print(f\"Total number of impossible questions: {num_questions_impos_train+num_questions_impos_test}\")"
      ]
    },
    {
      "cell_type": "code",
      "execution_count": null,
      "metadata": {
        "id": "WYTpS-FiD1ox"
      },
      "outputs": [],
      "source": [
        "def add_answer_ends(answers):\n",
        "  for e in answers:\n",
        "    e['text'] = e['text'].lower()\n",
        "    e['answer_end']=[]\n",
        "    e['answer_end'] .append(e['answer_start'] + len(e['text']))\n",
        "    e['answer_end'] = e['answer_end'][0]\n",
        "\n",
        "  return answers"
      ]
    },
    {
      "cell_type": "code",
      "execution_count": null,
      "metadata": {
        "id": "TZtZ9aFLG8tu"
      },
      "outputs": [],
      "source": [
        "answer_list_train = add_answer_ends(answer_list_train)\n",
        "answer_list_test = add_answer_ends(answer_list_test)"
      ]
    },
    {
      "cell_type": "code",
      "execution_count": null,
      "metadata": {
        "id": "Bl1Dv5Vy6pAY"
      },
      "outputs": [],
      "source": [
        "test_rec = 30\n",
        "print(f\"Context: {context_list_test[test_rec]}\")\n",
        "print(f\"Question: {question_list_test[test_rec]}\")\n",
        "print(f\"Answer: {answer_list_test[test_rec]}\")"
      ]
    },
    {
      "cell_type": "code",
      "execution_count": null,
      "metadata": {
        "id": "r_irREbsI8Q8"
      },
      "outputs": [],
      "source": [
        "#add for validation set"
      ]
    },
    {
      "cell_type": "markdown",
      "metadata": {
        "id": "rhUEPfy9I0qT"
      },
      "source": [
        "###Tokenization"
      ]
    },
    {
      "cell_type": "code",
      "execution_count": null,
      "metadata": {
        "id": "W67lUkXsIrEh"
      },
      "outputs": [],
      "source": [
        "# Initialize an empty list to store token lengths\n",
        "token_lengths = []\n",
        "\n",
        "# Loop through each context passage in the text_data list\n",
        "for passage in context_list_train:\n",
        "    # Remove leading and trailing white spaces from the passage\n",
        "    passage = passage.strip()\n",
        "\n",
        "    # Split the cleaned passage into tokens using spaces and count the number of tokens\n",
        "    token_count = len(passage.split())\n",
        "\n",
        "    # Append the token count to the token_lengths list\n",
        "    token_lengths.append(token_count)\n",
        "\n",
        "# Find and print the maximum token length observed in the context passages\n",
        "max_token_length = max(token_lengths)\n",
        "print(f\"Maximum token length in context passages: {max_token_length}\")\n",
        "\n",
        "# Create a histogram to visualize the distribution of token lengths\n",
        "plt.hist(token_lengths, bins=20)\n",
        "plt.ylabel('Count')\n",
        "plt.xlabel('Token Length')\n",
        "plt.title('Distribution of Context Passage Token Lengths')"
      ]
    },
    {
      "cell_type": "code",
      "execution_count": null,
      "metadata": {
        "id": "aS2KJkeaDaD6"
      },
      "outputs": [],
      "source": [
        "# Initialize an empty list to store the token lengths of context passages\n",
        "token_lengths_2 = []\n",
        "\n",
        "# Loop through each context passage in the train_contexts list\n",
        "for question in question_list_train:\n",
        "    # Remove leading and trailing white spaces from the passage\n",
        "    cleaned_question = question.strip()\n",
        "\n",
        "    # Split the cleaned context passage into tokens based on spaces and count the number of tokens\n",
        "    token_count = len(cleaned_question.split(' '))\n",
        "\n",
        "    # Append the token count to the token_lengths list\n",
        "    token_lengths_2.append(token_count)\n",
        "\n",
        "# Find and print the maximum token length observed in the context passages\n",
        "max_token_length = max(token_lengths_2)\n",
        "print(f\"Maximum token length in questions: {max_token_length}\")\n",
        "\n",
        "# Create a histogram to visualize the distribution of token lengths\n",
        "plt.hist(token_lengths_2, bins=20)  # You can adjust the number of bins for your visualization\n",
        "plt.ylabel('Count')\n",
        "plt.xlabel('Token Length')\n",
        "plt.title('Distribution of Question Token Lengths')\n"
      ]
    },
    {
      "cell_type": "code",
      "execution_count": null,
      "metadata": {
        "id": "BbERB1i_EoGJ"
      },
      "outputs": [],
      "source": [
        "Max_Length = 250"
      ]
    },
    {
      "cell_type": "code",
      "execution_count": null,
      "metadata": {
        "id": "VsxCvpRvFC_Z"
      },
      "outputs": [],
      "source": [
        "MODEL_PATH = \"bert-base-uncased\""
      ]
    },
    {
      "cell_type": "code",
      "execution_count": null,
      "metadata": {
        "id": "ZIc4PTjFEqa0"
      },
      "outputs": [],
      "source": [
        "tokenizerFast = BertTokenizerFast.from_pretrained(MODEL_PATH)\n",
        "\n",
        "train_encodings_fast = tokenizerFast(question_list_train, context_list_train,  max_length = Max_Length, truncation=True, padding=True)\n",
        "test_encodings_fast = tokenizerFast(question_list_test, context_list_test,  max_length = Max_Length, truncation=True, padding=True)\n"
      ]
    },
    {
      "cell_type": "code",
      "execution_count": null,
      "metadata": {
        "id": "SnEjhJ8FGHcZ"
      },
      "outputs": [],
      "source": [
        "\n",
        "print(train_encodings_fast.keys())\n",
        "print(test_encodings_fast.keys())\n",
        "print(len(train_encodings_fast['input_ids']))\n",
        "print(train_encodings_fast['input_ids'][10][0:25])\n",
        "print(train_encodings_fast['token_type_ids'][10][0:25])\n",
        "print(train_encodings_fast['attention_mask'][10][0:25])\n",
        "\n",
        "print(len(train_encodings_fast['input_ids'][0]))\n",
        "#attention mask is 0 for padding tokens and 1 for non-padding tokens\n",
        "#input ids is the token integer for each word in the input sequence\n",
        "#token type ids is 0 for questions and 1 for contexts - used in a multi-input model\n",
        "\n",
        "#DOUBT ?? how do we combine the 2 inputs into a single 250 length object?"
      ]
    },
    {
      "cell_type": "code",
      "execution_count": null,
      "metadata": {
        "id": "M-nXVtaBGOXP"
      },
      "outputs": [],
      "source": [
        "# # Select the first sequence (index 0) from input_ids\n",
        "# input_ids_sequence = train_encodings_fast['input_ids'][10]\n",
        "# decoded_sequence = tokenizerFast.decode(input_ids_sequence, skip_special_tokens=True)\n",
        "# print(len(decoded_sequence.split(' ')))\n",
        "# print(type(decoded_sequence))\n",
        "# print(decoded_sequence)\n",
        "# print(len(context_list_train[0].split(' ')))\n",
        "# print(context_list_train[0])"
      ]
    },
    {
      "cell_type": "code",
      "execution_count": null,
      "metadata": {
        "id": "fnnQATrr_rlR"
      },
      "outputs": [],
      "source": [
        "answer_list_test[101]"
      ]
    },
    {
      "cell_type": "code",
      "execution_count": null,
      "metadata": {
        "id": "wRF8voaV7vYp"
      },
      "outputs": [],
      "source": [
        "answer_encoding_fast = tokenizerFast(answer_list_train[0]['text'],  max_length = Max_Length, truncation=True, padding=True)\n",
        "answer_encoding_fast"
      ]
    },
    {
      "cell_type": "code",
      "execution_count": null,
      "metadata": {
        "id": "UVI3cuZb0j1p"
      },
      "outputs": [],
      "source": [
        "def ret_Answer_start_and_end_train(idx):\n",
        "    ret_start = 0\n",
        "    ret_end = 0\n",
        "    answer_encoding_fast = tokenizerFast(answer_list_train[idx]['text'],  max_length = Max_Length, truncation=True, padding=True)\n",
        "    for a in range( len(train_encodings_fast['input_ids'][idx]) -  len(answer_encoding_fast['input_ids']) ): #len(train_encodings_fast['input_ids'][0])):\n",
        "        match = True\n",
        "        for i in range(1,len(answer_encoding_fast['input_ids']) - 1):\n",
        "\n",
        "            if (answer_encoding_fast['input_ids'][i] != train_encodings_fast['input_ids'][idx][a + i]):\n",
        "                match = False\n",
        "                break\n",
        "        if match:\n",
        "            ret_start = a+1\n",
        "            ret_end = a+i+1\n",
        "            break\n",
        "    return(ret_start, ret_end)\n"
      ]
    },
    {
      "cell_type": "code",
      "execution_count": null,
      "metadata": {
        "id": "A-Z_5RcrCm6E"
      },
      "outputs": [],
      "source": [
        "def ret_Answer_start_and_end_test(idx):\n",
        "    ret_start = 0\n",
        "    ret_end = 0\n",
        "    answer_encoding_fast = tokenizerFast(answer_list_test[idx]['text'],  max_length = Max_Length, truncation=True, padding=True)\n",
        "    for a in range( len(test_encodings_fast['input_ids'][idx])  -  len(answer_encoding_fast['input_ids'])   ): #len(train_encodings_fast['input_ids'][0])):\n",
        "        match = True\n",
        "        for i in range(1,len(answer_encoding_fast['input_ids']) - 1):\n",
        "            if (answer_encoding_fast['input_ids'][i] != test_encodings_fast['input_ids'][idx][a + i]):\n",
        "                match = False\n",
        "                break\n",
        "        if match:\n",
        "            ret_start = a+1\n",
        "            ret_end = a+i+1\n",
        "            break\n",
        "    return(ret_start, ret_end)"
      ]
    },
    {
      "cell_type": "code",
      "execution_count": null,
      "metadata": {
        "id": "mSY8jcjXQhHt"
      },
      "outputs": [],
      "source": [
        "def calc_answer_start_end_train(index):\n",
        "  start=0\n",
        "  end=0\n",
        "  answer_encoding_fast = tokenizerFast(answer_list_train[index]['text'],  max_length = Max_Length, truncation=True, padding=True)\n",
        "  l = len(answer_list_train[index]['text'][0].split(' '))\n",
        "\n",
        "\n",
        "\n",
        "  for x in range(len(train_encodings_fast['input_ids'][index]) - l):\n",
        "    match = True\n",
        "    for i in range(l):\n",
        "      if(answer_encoding_fast['input_ids'][0][i+1]!=train_encodings_fast['input_ids'][index][x+i]):\n",
        "        match = False\n",
        "        break\n",
        "    if(match):\n",
        "      start = x\n",
        "      end = x+l\n",
        "      break\n",
        "  return start,end\n",
        "    # if answer_encoding_fast['input_ids'][0]  ==  train_encodings_fast['input_ids'][index][x:x+len(answer_encoding_fast['input_ids'][0])]:\n",
        "    #   start = x+1\n",
        "    #   end = x+len(answer_encoding_fast['input_ids'][0])+1\n",
        "    #   break\n",
        "  # return start,end\n"
      ]
    },
    {
      "cell_type": "code",
      "execution_count": null,
      "metadata": {
        "id": "GgJpPMAQcy8J"
      },
      "outputs": [],
      "source": [
        "# print(len(train_encodings_fast['input_ids'][10]))\n",
        "# answer_encoding_fast = tokenizerFast(answer_list_train[10]['text'],  max_length = 250, truncation=True, padding=True)\n",
        "# # input_ids_sequence = train_encodings_fast['input_ids'][0]\n",
        "# # decoded_sequence = tokenizerFast.decode(input_ids_sequence)\n",
        "# # print(len(decoded_sequence.split(' ')))\n",
        "# print(len(answer_list_train[10]['text'][0].split(' ')))\n",
        "# print(len(answer_encoding_fast['input_ids'][0]))\n",
        "# decoded_sequence = tokenizerFast.decode(answer_encoding_fast['input_ids'][0])\n",
        "# print(decoded_sequence)\n",
        "# print(answer_encoding_fast['input_ids'][0])"
      ]
    },
    {
      "cell_type": "code",
      "execution_count": null,
      "metadata": {
        "id": "V95wHUdcV5h_"
      },
      "outputs": [],
      "source": [
        "# test_rec=0\n",
        "\n",
        "# z,x = calc_answer_start_end_train(test_rec)\n",
        "# print(z, x)\n",
        "\n",
        "# predict_answer_tokens = train_encodings_fast.input_ids[test_rec][z : x]\n",
        "# print(tokenizerFast.decode(predict_answer_tokens))\n",
        "# print(answer_list_train[test_rec]['text'])\n",
        "# print(tokenizerFast.decode(train_encodings_fast['input_ids'][test_rec]))"
      ]
    },
    {
      "cell_type": "code",
      "execution_count": null,
      "metadata": {
        "id": "cXHQkFFOL2iy"
      },
      "outputs": [],
      "source": [
        "start_positions = []\n",
        "end_positions = []\n",
        "ctr = 0\n",
        "for h in range(len(train_encodings_fast['input_ids'])):\n",
        "  #print(h)\n",
        "  s, e = ret_Answer_start_and_end_train(h)\n",
        "\n",
        "  start_positions.append(s)\n",
        "  end_positions.append(e)\n",
        "  if s==0:\n",
        "    ctr = ctr + 1\n",
        "\n",
        "train_encodings_fast.update({'start_positions': start_positions, 'end_positions': end_positions})\n",
        "print(ctr)"
      ]
    },
    {
      "cell_type": "code",
      "execution_count": null,
      "metadata": {
        "id": "-FZdIqm0X0zw"
      },
      "outputs": [],
      "source": [
        "train_encodings_fast.keys()"
      ]
    },
    {
      "cell_type": "code",
      "execution_count": null,
      "metadata": {
        "id": "CPPBJravidtQ"
      },
      "outputs": [],
      "source": [
        "def calc_answer_start_end_test(index):\n",
        "  start=0\n",
        "  end=0\n",
        "  answer_encoding_fast = tokenizerFast(answer_list_test[index]['text'],  max_length = Max_Length, truncation=True, padding=True)\n",
        "  l = len(answer_list_test[index]['text'][0].split(' '))\n",
        "\n",
        "\n",
        "\n",
        "  for x in range(len(test_encodings_fast['input_ids'][index]) - l):\n",
        "    match = True\n",
        "    for i in range(l):\n",
        "      if(answer_encoding_fast['input_ids'][0][i+1]!=test_encodings_fast['input_ids'][index][x+i]):\n",
        "        match = False\n",
        "        break\n",
        "    if(match):\n",
        "      start = x\n",
        "      end = x+l\n",
        "      break\n",
        "  return start,end\n",
        "    # if answer_encoding_fast['input_ids'][0]  ==  train_encodings_fast['input_ids'][index][x:x+len(answer_encoding_fast['input_ids'][0])]:\n",
        "    #   start = x+1\n",
        "    #   end = x+len(answer_encoding_fast['input_ids'][0])+1\n",
        "    #   break\n",
        "  # return start,end\n"
      ]
    },
    {
      "cell_type": "code",
      "execution_count": null,
      "metadata": {
        "id": "fzfU2-utkjcj"
      },
      "outputs": [],
      "source": [
        "start_positions = []\n",
        "end_positions = []\n",
        "ctr = 0\n",
        "for h in range(len(test_encodings_fast['input_ids'])):\n",
        "    #print(h)\n",
        "    s, e = ret_Answer_start_and_end_test(h)\n",
        "\n",
        "    start_positions.append(s)\n",
        "    end_positions.append(e)\n",
        "    if s==0:\n",
        "        ctr = ctr + 1\n",
        "\n",
        "\n",
        "test_encodings_fast.update({'start_positions': start_positions, 'end_positions': end_positions})\n",
        "print(ctr)"
      ]
    },
    {
      "cell_type": "markdown",
      "metadata": {
        "id": "HCJHmWG1cuOT"
      },
      "source": [
        "OPTIONAL"
      ]
    },
    {
      "cell_type": "code",
      "execution_count": null,
      "metadata": {
        "id": "vDDDlfIwkn84"
      },
      "outputs": [],
      "source": [
        "tokenizer2 = BertTokenizer.from_pretrained(\"deepset/bert-base-cased-squad2\")\n",
        "model2 = BertForQuestionAnswering.from_pretrained(\"deepset/bert-base-cased-squad2\")"
      ]
    },
    {
      "cell_type": "code",
      "execution_count": null,
      "metadata": {
        "id": "aW7PYyd-cxGO"
      },
      "outputs": [],
      "source": [
        "question= question_list_train[2]\n",
        "text = context_list_train[2]\n",
        "\n",
        "print(question)\n",
        "print(text)"
      ]
    },
    {
      "cell_type": "code",
      "execution_count": null,
      "metadata": {
        "id": "WN-ZlQPyc1Te"
      },
      "outputs": [],
      "source": [
        "inputs = tokenizer2(question, text, return_tensors=\"pt\", padding=True, truncation=True, max_length = Max_Length)\n",
        "with torch.no_grad():\n",
        "  outputs = model2(**inputs)"
      ]
    },
    {
      "cell_type": "code",
      "execution_count": null,
      "metadata": {
        "id": "cjOS6Tw4Ss2g"
      },
      "outputs": [],
      "source": [
        "print(len(train_encodings_fast['input_ids']))\n",
        "print(inputs[\"attention_mask\"].shape)\n",
        "print(inputs[\"token_type_ids\"].shape)\n"
      ]
    },
    {
      "cell_type": "code",
      "execution_count": null,
      "metadata": {
        "id": "2F_oepDcc5pX"
      },
      "outputs": [],
      "source": [
        "answer_start_index = outputs.start_logits.argmax()\n",
        "answer_end_index = outputs.end_logits.argmax()\n",
        "print(answer_start_index)\n",
        "print(answer_end_index)"
      ]
    },
    {
      "cell_type": "code",
      "execution_count": null,
      "metadata": {
        "id": "p0AIUPPOc7nB"
      },
      "outputs": [],
      "source": [
        "predict_answer_tokens = inputs.input_ids[0, answer_start_index : answer_end_index + 1]\n",
        "tokenizer2.decode(predict_answer_tokens)"
      ]
    },
    {
      "cell_type": "markdown",
      "metadata": {
        "id": "qHPST4cIgiBC"
      },
      "source": [
        "Creating Datasets and Dataloaders"
      ]
    },
    {
      "cell_type": "code",
      "execution_count": null,
      "metadata": {
        "id": "tA----DCghks"
      },
      "outputs": [],
      "source": [
        "class InputDataset(Dataset):\n",
        "    def __init__(self, encodings):\n",
        "        self.encodings = encodings\n",
        "    def __getitem__(self, i):\n",
        "        return {\n",
        "            'inputIDs': torch.tensor(self.encodings['input_ids'][i]),\n",
        "            'tokenIDs': torch.tensor(self.encodings['token_type_ids'][i]),\n",
        "            'attMask': torch.tensor(self.encodings['attention_mask'][i]),\n",
        "            'startPos': torch.tensor(self.encodings['start_positions'][i]),\n",
        "            'endPos': torch.tensor(self.encodings['end_positions'][i])\n",
        "        }\n",
        "    def __len__(self):\n",
        "        return len(self.encodings['input_ids'])"
      ]
    },
    {
      "cell_type": "code",
      "execution_count": null,
      "metadata": {
        "id": "GkWh0cbSk3gU"
      },
      "outputs": [],
      "source": [
        "train_dataset = InputDataset(train_encodings_fast)\n",
        "test_dataset = InputDataset(test_encodings_fast)"
      ]
    },
    {
      "cell_type": "code",
      "execution_count": null,
      "metadata": {
        "id": "zSckqfjWk7BB"
      },
      "outputs": [],
      "source": [
        "# print(len(train_dataset))\n",
        "# print(train_dataset.keys())"
      ]
    },
    {
      "cell_type": "code",
      "execution_count": null,
      "metadata": {
        "id": "S3xk3AD4k9GN"
      },
      "outputs": [],
      "source": [
        "train_data_loader = DataLoader(train_dataset, batch_size=32, shuffle=True)\n",
        "test_data_loader = DataLoader(test_dataset, batch_size=32)\n",
        "# TODO: change the batch_size later"
      ]
    },
    {
      "cell_type": "markdown",
      "metadata": {
        "id": "narfmCAgRp66"
      },
      "source": [
        "Creating the model"
      ]
    },
    {
      "cell_type": "code",
      "execution_count": null,
      "metadata": {
        "id": "93AtxO2elEWd"
      },
      "outputs": [],
      "source": [
        "#model = BertForQuestionAnswering.from_pretrained(MODEL_PATH)\n",
        "bert_model = BertModel.from_pretrained(MODEL_PATH)"
      ]
    },
    {
      "cell_type": "code",
      "execution_count": null,
      "metadata": {
        "id": "ZSZaXg3MR8rR"
      },
      "outputs": [],
      "source": [
        "print(bert_model)"
      ]
    },
    {
      "cell_type": "code",
      "execution_count": null,
      "metadata": {
        "id": "NIo52Whzzh3A"
      },
      "outputs": [],
      "source": [
        "#no_layers = 6\n",
        "#for param in bert_model.encoder.layer[:no_layers].parameters():\n",
        "#    param.requires_grad = False"
      ]
    },
    {
      "cell_type": "code",
      "execution_count": null,
      "metadata": {
        "id": "z2a4iujsSDun"
      },
      "outputs": [],
      "source": [
        "#defining the model\n",
        "\n",
        "class QAModel(nn.Module):\n",
        "    def __init__(self):\n",
        "        super(QAModel, self).__init__()\n",
        "        self.bert = bert_model\n",
        "        self.drop_out = nn.Dropout(0.1)\n",
        "        self.l1 = nn.Linear(768*2, 384 )\n",
        "        self.l2 = nn.Linear(384 , 2)\n",
        "        self.linear_relu_stack = nn.Sequential(\n",
        "            self.drop_out,\n",
        "            self.l1,\n",
        "            nn.LeakyReLU(),\n",
        "            self.l2\n",
        "        )\n",
        "\n",
        "    def forward(self, input_ids, attention_mask, token_type_ids):\n",
        "        model_output = self.bert(input_ids, attention_mask=attention_mask, token_type_ids=token_type_ids, output_hidden_states=True)\n",
        "        hidden_states = model_output[2]\n",
        "\n",
        "        #original implementation\n",
        "        #out= hidden_states[-1]\n",
        "\n",
        "        #our innovation\n",
        "        out = torch.cat((hidden_states[-1], hidden_states[-3]), dim=-1) # taking Start logits from last BERT layer, End Logits from third to last layer\n",
        "\n",
        "        logits = self.linear_relu_stack(out)\n",
        "\n",
        "        ans_start_index, ans_end_index = logits.split(1, dim=-1)\n",
        "\n",
        "        ans_start_index = ans_start_index.squeeze(-1)\n",
        "        ans_end_index = ans_end_index.squeeze(-1)\n",
        "\n",
        "        return ans_start_index, ans_end_index"
      ]
    },
    {
      "cell_type": "code",
      "execution_count": null,
      "metadata": {
        "id": "XKmoMf_9pvY_"
      },
      "outputs": [],
      "source": [
        "import torch.nn as nn\n",
        "\n",
        "class QAModel(nn.Module):\n",
        "    def __init__(self):\n",
        "        super(QAModel, self).__init__()\n",
        "        self.bert = bert_model  # Assuming `bert_model` is defined elsewhere\n",
        "        self.drop_out = nn.Dropout(0.1)\n",
        "        self.lstm = nn.LSTM(768, 384, bidirectional=True, batch_first=True)\n",
        "        self.relu = nn.ReLU()\n",
        "        self.linear_stack = nn.Sequential(\n",
        "            nn.Linear(768, 384),\n",
        "            self.relu,\n",
        "            nn.Linear(384 * 2, 2)  # Adjusted the input size based on LSTM bidirectional output\n",
        "        )\n",
        "\n",
        "    def forward(self, input_ids, attention_mask, token_type_ids):\n",
        "        model_output = self.bert(input_ids, attention_mask=attention_mask, token_type_ids=token_type_ids, output_hidden_states=True)\n",
        "        hidden_states = model_output[2]\n",
        "\n",
        "        # Concatenate the hidden states from the last two layers\n",
        "        out = torch.cat((hidden_states[-1], hidden_states[-2]), dim=-1)\n",
        "\n",
        "        # Apply dropout\n",
        "        out = self.drop_out(out)\n",
        "\n",
        "        # Apply LSTM\n",
        "        out, _ = self.lstm(out)\n",
        "\n",
        "        # Flatten the output before passing through linear layers\n",
        "        out = out.contiguous().view(out.size(0), -1)\n",
        "\n",
        "        # Apply linear layers\n",
        "        logits = self.linear_stack(out)\n",
        "\n",
        "        ans_start_index, ans_end_index = logits.split(1, dim=-1)\n",
        "\n",
        "        ans_start_index = ans_start_index.squeeze(-1)\n",
        "        ans_end_index = ans_end_index.squeeze(-1)\n",
        "\n",
        "        return ans_start_index, ans_end_index\n"
      ]
    },
    {
      "cell_type": "code",
      "execution_count": null,
      "metadata": {
        "id": "CiaNqvXBNbee"
      },
      "outputs": [],
      "source": [
        "model = QAModel()\n",
        "\n",
        "model = model.to('cuda')"
      ]
    },
    {
      "cell_type": "code",
      "execution_count": null,
      "metadata": {
        "colab": {
          "base_uri": "https://localhost:8080/"
        },
        "id": "IsfPLqobZWtz",
        "outputId": "5141eeed-08fe-4b20-83ea-e1d8123fdb9a"
      },
      "outputs": [
        {
          "data": {
            "text/plain": [
              "dict_keys(['inputIDs', 'tokenIDs', 'attMask', 'startPos', 'endPos'])"
            ]
          },
          "execution_count": 59,
          "metadata": {},
          "output_type": "execute_result"
        }
      ],
      "source": [
        "data = next(iter(train_data_loader))\n",
        "data.keys()"
      ]
    },
    {
      "cell_type": "code",
      "execution_count": null,
      "metadata": {
        "colab": {
          "base_uri": "https://localhost:8080/"
        },
        "id": "EiET6BBTl6rL",
        "outputId": "1bcbbccb-48ad-46a4-a74f-b8f6b4898bad"
      },
      "outputs": [
        {
          "name": "stdout",
          "output_type": "stream",
          "text": [
            "torch.Size([32, 250])\n"
          ]
        }
      ],
      "source": [
        "print(data['inputIDs'].shape)\n"
      ]
    },
    {
      "cell_type": "code",
      "execution_count": null,
      "metadata": {
        "id": "x0MbwyFBZgHF"
      },
      "outputs": [],
      "source": [
        "#run one row\n",
        "'''\n",
        "model.to(device)\n",
        "model.train()\n",
        "input_ids = data['inputIDs'][0].unsqueeze(0).to(device)\n",
        "attention_mask = data['attMask'][0].unsqueeze(0).to(device)\n",
        "start_positions = data['startPos'][0].unsqueeze(0).to(device)\n",
        "end_positions = data['endPos'][0].unsqueeze(0).to(device)\n",
        "token_type_ids = data['tokenIDs'][0].unsqueeze(0).to(device)\n",
        "\n",
        "out_start, out_end = model(input_ids=input_ids, attention_mask=attention_mask, token_type_ids=token_type_ids)\n",
        "'''"
      ]
    },
    {
      "cell_type": "code",
      "execution_count": null,
      "metadata": {
        "id": "YO7XdJfrZvxD"
      },
      "outputs": [],
      "source": [
        "#print(f\"start logits shape: {out_start.shape}\")\n",
        "#print(f\"end logits shape: {out_end.shape}\")"
      ]
    },
    {
      "cell_type": "code",
      "execution_count": null,
      "metadata": {
        "id": "pPoT1XIkgvJK"
      },
      "outputs": [],
      "source": [
        "#answer_start_index = out_start.argmax()\n",
        "#answer_end_index = out_end.argmax()\n",
        "#print(answer_start_index)\n",
        "#print(answer_end_index)\n",
        "\n"
      ]
    },
    {
      "cell_type": "code",
      "execution_count": null,
      "metadata": {
        "colab": {
          "base_uri": "https://localhost:8080/",
          "height": 53
        },
        "id": "E5Ph8prshJCi",
        "outputId": "f0054fc8-781f-4aeb-bc97-a26fbb0ad532"
      },
      "outputs": [
        {
          "data": {
            "application/vnd.google.colaboratory.intrinsic+json": {
              "type": "string"
            },
            "text/plain": [
              "\"predict_answer_tokens = data['inputIDs'][0, answer_start_index]\\npredict_answer_end_tokens = data['inputIDs'][0, answer_end_index]\\n# tokenizer2.decode(predict_answer_tokens)\\ntokenizerFast.decode(predict_answer_end_tokens)\\n\""
            ]
          },
          "execution_count": 54,
          "metadata": {},
          "output_type": "execute_result"
        }
      ],
      "source": [
        "'''predict_answer_tokens = data['inputIDs'][0, answer_start_index]\n",
        "predict_answer_end_tokens = data['inputIDs'][0, answer_end_index]\n",
        "# tokenizer2.decode(predict_answer_tokens)\n",
        "tokenizerFast.decode(predict_answer_end_tokens)\n",
        "'''"
      ]
    },
    {
      "cell_type": "markdown",
      "metadata": {
        "id": "YNARZfOvlRid"
      },
      "source": [
        "Training loop"
      ]
    },
    {
      "cell_type": "code",
      "execution_count": null,
      "metadata": {
        "id": "g_SRTF5yOtEa"
      },
      "outputs": [],
      "source": [
        "from google.colab import drive\n",
        "drive.mount('/content/drive')"
      ]
    },
    {
      "cell_type": "code",
      "execution_count": null,
      "metadata": {
        "id": "5-NNVVznWmC9"
      },
      "outputs": [],
      "source": [
        "%cd '/content/drive/MyDrive/BITS_NLP'\n",
        "#%cd '/content/drive/MyDrive/BITS_NLP'"
      ]
    },
    {
      "cell_type": "code",
      "execution_count": null,
      "metadata": {
        "id": "-ECXEPC8B-8d"
      },
      "outputs": [],
      "source": [
        "model.load_state_dict(torch.load('checkpoint.pth'))"
      ]
    },
    {
      "cell_type": "code",
      "execution_count": null,
      "metadata": {
        "id": "crz1QhZ1YZJN"
      },
      "outputs": [],
      "source": [
        "#import trained model\n",
        "#model = QAModel()\n",
        "#model.load_state_dict(torch.load('checkpoint.pth'))"
      ]
    },
    {
      "cell_type": "code",
      "execution_count": null,
      "metadata": {
        "colab": {
          "base_uri": "https://localhost:8080/"
        },
        "id": "U_HjdYgOZL2_",
        "outputId": "cc3fb0f7-db5c-433c-a692-ad42ad1a58eb"
      },
      "outputs": [
        {
          "name": "stdout",
          "output_type": "stream",
          "text": [
            "cuda\n"
          ]
        }
      ],
      "source": [
        "device = torch.device('cuda') if torch.cuda.is_available() else torch.device('cpu')\n",
        "print(device)"
      ]
    },
    {
      "cell_type": "code",
      "execution_count": null,
      "metadata": {
        "colab": {
          "base_uri": "https://localhost:8080/",
          "height": 53
        },
        "id": "oKjF6wWliW8a",
        "outputId": "f64132dd-72a9-410f-8046-682cc5f441e2"
      },
      "outputs": [
        {
          "data": {
            "application/vnd.google.colaboratory.intrinsic+json": {
              "type": "string"
            },
            "text/plain": [
              "' = 2e-5\\nweight_decay = 2e-2\\ngamma = 0.9\\noptimizer1 = torch.optim.AdamW(model.parameters(), lr=learning_rate, weight_decay=weight_decay)\\nloss_fn1 = nn.CrossEntropyLoss()\\nscheduler = ExponentialLR(optimizer1, gamma=gamma)\\ntotal_accuracy = []\\ntotal_loss = []\\n'"
            ]
          },
          "execution_count": 52,
          "metadata": {},
          "output_type": "execute_result"
        }
      ],
      "source": [
        "''' = 2e-5\n",
        "weight_decay = 2e-2\n",
        "gamma = 0.9\n",
        "optimizer1 = torch.optim.AdamW(model.parameters(), lr=learning_rate, weight_decay=weight_decay)\n",
        "loss_fn1 = nn.CrossEntropyLoss()\n",
        "scheduler = ExponentialLR(optimizer1, gamma=gamma)\n",
        "total_accuracy = []\n",
        "total_loss = []\n",
        "'''"
      ]
    },
    {
      "cell_type": "code",
      "execution_count": null,
      "metadata": {
        "id": "LMqGFHQFmxOa"
      },
      "outputs": [],
      "source": [
        "def train(model, data, epochNumber, optimizer, loss_fn, name):\n",
        "  model = model.train()\n",
        "  loss_list = []\n",
        "  accuracy_list = []\n",
        "  count = 0\n",
        "  batch_count = 0\n",
        "  #batch_save=0\n",
        "  for batch in tqdm(data, desc = 'Current epoch number '):\n",
        "    optimizer.zero_grad()\n",
        "    input_ids = batch['inputIDs'].to(device)\n",
        "    attention_mask = batch['attMask'].to(device)\n",
        "    token_type_ids = batch['tokenIDs'].to(device)\n",
        "    start_positions = batch['startPos'].to(device)\n",
        "    end_positions = batch['endPos'].to(device)\n",
        "    out_start, out_end = model(input_ids=input_ids, attention_mask=attention_mask, token_type_ids=token_type_ids)\n",
        "    #loss = loss_fn(out_start, out_end, start_positions, end_positions)  # <---BASELINE.  Cross Entropy Loss is returned by Default\n",
        "\n",
        "    loss = loss_fn(out_start, start_positions) + loss_fn(out_end, end_positions)\n",
        "    loss_list.append(loss.item())\n",
        "    loss.backward()\n",
        "    optimizer.step()\n",
        "\n",
        "    start_prediction = torch.argmax(out_start, dim=1)\n",
        "    end_prediction = torch.argmax(out_end, dim=1)\n",
        "\n",
        "    accuracy_list.append(((start_prediction == start_positions).sum()/len(start_prediction)).item())\n",
        "    accuracy_list.append(((end_prediction == end_positions).sum()/len(end_prediction)).item())\n",
        "    batch_count = batch_count + 1\n",
        "    #batch_save=batch_save+1\n",
        "    if batch_count==250:\n",
        "        total_accuracy.append(sum(accuracy_list)/len(accuracy_list))\n",
        "        loss_average = sum(loss_list)/len(loss_list)\n",
        "        total_loss.append(loss_average)\n",
        "        if epochNumber==1:\n",
        "          print(\"current accuracy : \" + str(total_accuracy[-1]))\n",
        "          print(\"current loss : \" + str(total_loss[-1]))\n",
        "        batch_count = 0\n",
        "        if total_accuracy[-1]==max(total_accuracy):\n",
        "          torch.save(model.state_dict(), name)\n",
        "          print(\"Saving the model for epoch number \"+ str(epochNumber))\n",
        "\n",
        "  scheduler.step()\n",
        "  ret_acc = sum(accuracy_list)/len(accuracy_list)\n",
        "  ret_loss = sum(loss_list)/len(loss_list)\n",
        "  return(ret_acc, ret_loss)"
      ]
    },
    {
      "cell_type": "code",
      "execution_count": null,
      "metadata": {
        "id": "eA9CYIVDaY0I"
      },
      "outputs": [],
      "source": [
        "def eval_model(model, dataloader):\n",
        "    model = model.eval()\n",
        "    acc = []\n",
        "    ctr = 0\n",
        "    with torch.no_grad():\n",
        "        for batch in tqdm(dataloader, desc = 'Running Evaluation'):\n",
        "            input_ids = batch['inputIDs'].to(device)\n",
        "            attention_mask = batch['attMask'].to(device)\n",
        "            token_type_ids = batch['tokenIDs'].to(device)\n",
        "            start_true = batch['startPos'].to(device)\n",
        "            end_true = batch['endPos'].to(device)\n",
        "\n",
        "            out_start, out_end = model(input_ids=input_ids,\n",
        "                attention_mask=attention_mask,\n",
        "                token_type_ids=token_type_ids)\n",
        "\n",
        "            start_pred = torch.argmax(out_start, dim=1)\n",
        "            end_pred = torch.argmax(out_end, dim=1)\n",
        "\n",
        "            acc.append(((start_pred == start_true).sum()/len(start_pred)).item())\n",
        "            acc.append(((end_pred == end_true).sum()/len(end_pred)).item())\n",
        "\n",
        "        ret_acc = sum(acc)/len(acc)\n",
        "        #ret_loss = 0\n",
        "        #ret_loss = sum(losses)/len(losses)\n",
        "\n",
        "\n",
        "    return acc, ret_acc"
      ]
    },
    {
      "cell_type": "markdown",
      "metadata": {
        "id": "YxIqSeXvb514"
      },
      "source": [
        "###Base Model"
      ]
    },
    {
      "cell_type": "code",
      "execution_count": null,
      "metadata": {
        "colab": {
          "base_uri": "https://localhost:8080/"
        },
        "id": "ip8irHOSr84H",
        "outputId": "234d9043-9e03-46b9-c658-414619d66791"
      },
      "outputs": [
        {
          "name": "stdout",
          "output_type": "stream",
          "text": [
            "epoch number is 0\n"
          ]
        },
        {
          "name": "stderr",
          "output_type": "stream",
          "text": [
            "Current epoch number :   9%|▉         | 250/2714 [06:01<59:57,  1.46s/it]"
          ]
        },
        {
          "name": "stdout",
          "output_type": "stream",
          "text": [
            "current accuracy : 0.3128125\n",
            "current loss : 5.850066661834717\n"
          ]
        },
        {
          "name": "stderr",
          "output_type": "stream",
          "text": [
            "Current epoch number :  18%|█▊        | 500/2714 [12:07<53:49,  1.46s/it]"
          ]
        },
        {
          "name": "stdout",
          "output_type": "stream",
          "text": [
            "current accuracy : 0.426\n",
            "current loss : 4.659376241922379\n"
          ]
        },
        {
          "name": "stderr",
          "output_type": "stream",
          "text": [
            "Current epoch number :  28%|██▊       | 750/2714 [18:13<48:11,  1.47s/it]"
          ]
        },
        {
          "name": "stdout",
          "output_type": "stream",
          "text": [
            "current accuracy : 0.4783541666666667\n",
            "current loss : 4.122625838120778\n"
          ]
        },
        {
          "name": "stderr",
          "output_type": "stream",
          "text": [
            "Current epoch number :  37%|███▋      | 999/2714 [24:18<42:06,  1.47s/it]"
          ]
        },
        {
          "name": "stdout",
          "output_type": "stream",
          "text": [
            "current accuracy : 0.51046875\n",
            "current loss : 3.8032863845825196\n"
          ]
        },
        {
          "name": "stderr",
          "output_type": "stream",
          "text": [
            "\rCurrent epoch number :  37%|███▋      | 1000/2714 [24:21<56:41,  1.98s/it]"
          ]
        },
        {
          "name": "stdout",
          "output_type": "stream",
          "text": [
            "Saving the model for epoch number 1\n"
          ]
        },
        {
          "name": "stderr",
          "output_type": "stream",
          "text": [
            "Current epoch number :  46%|████▌     | 1250/2714 [30:28<35:45,  1.47s/it]"
          ]
        },
        {
          "name": "stdout",
          "output_type": "stream",
          "text": [
            "current accuracy : 0.532875\n",
            "current loss : 3.585979307842255\n"
          ]
        },
        {
          "name": "stderr",
          "output_type": "stream",
          "text": [
            "Current epoch number :  55%|█████▌    | 1500/2714 [36:35<29:38,  1.46s/it]"
          ]
        },
        {
          "name": "stdout",
          "output_type": "stream",
          "text": [
            "current accuracy : 0.54984375\n",
            "current loss : 3.427627196709315\n"
          ]
        },
        {
          "name": "stderr",
          "output_type": "stream",
          "text": [
            "Current epoch number :  64%|██████▍   | 1750/2714 [42:41<23:27,  1.46s/it]"
          ]
        },
        {
          "name": "stdout",
          "output_type": "stream",
          "text": [
            "current accuracy : 0.5623571428571429\n",
            "current loss : 3.304431213378906\n"
          ]
        },
        {
          "name": "stderr",
          "output_type": "stream",
          "text": [
            "Current epoch number :  74%|███████▎  | 1999/2714 [48:46<17:31,  1.47s/it]"
          ]
        },
        {
          "name": "stdout",
          "output_type": "stream",
          "text": [
            "current accuracy : 0.5737578125\n",
            "current loss : 3.198438799440861\n"
          ]
        },
        {
          "name": "stderr",
          "output_type": "stream",
          "text": [
            "\rCurrent epoch number :  74%|███████▎  | 2000/2714 [48:53<36:22,  3.06s/it]"
          ]
        },
        {
          "name": "stdout",
          "output_type": "stream",
          "text": [
            "Saving the model for epoch number 1\n"
          ]
        },
        {
          "name": "stderr",
          "output_type": "stream",
          "text": [
            "Current epoch number :  83%|████████▎ | 2250/2714 [55:00<11:20,  1.47s/it]"
          ]
        },
        {
          "name": "stdout",
          "output_type": "stream",
          "text": [
            "current accuracy : 0.5815069444444444\n",
            "current loss : 3.1166555647320218\n"
          ]
        },
        {
          "name": "stderr",
          "output_type": "stream",
          "text": [
            "Current epoch number :  92%|█████████▏| 2500/2714 [1:01:07<05:14,  1.47s/it]"
          ]
        },
        {
          "name": "stdout",
          "output_type": "stream",
          "text": [
            "current accuracy : 0.58963125\n",
            "current loss : 3.0365468365192414\n"
          ]
        },
        {
          "name": "stderr",
          "output_type": "stream",
          "text": [
            "Current epoch number : 100%|██████████| 2714/2714 [1:06:20<00:00,  1.47s/it]\n"
          ]
        },
        {
          "name": "stdout",
          "output_type": "stream",
          "text": [
            "Train Accuracy: 0.595797254976404      Train Loss: 2.9818682467665143\n",
            "epoch number is 1\n"
          ]
        },
        {
          "name": "stderr",
          "output_type": "stream",
          "text": [
            "Current epoch number :  37%|███▋      | 1000/2714 [24:28<1:03:13,  2.21s/it]"
          ]
        },
        {
          "name": "stdout",
          "output_type": "stream",
          "text": [
            "Saving the model for epoch number 2\n"
          ]
        },
        {
          "name": "stderr",
          "output_type": "stream",
          "text": [
            "Current epoch number :  74%|███████▎  | 2000/2714 [48:58<26:44,  2.25s/it]"
          ]
        },
        {
          "name": "stdout",
          "output_type": "stream",
          "text": [
            "Saving the model for epoch number 2\n"
          ]
        },
        {
          "name": "stderr",
          "output_type": "stream",
          "text": [
            "Current epoch number : 100%|██████████| 2714/2714 [1:06:21<00:00,  1.47s/it]\n"
          ]
        },
        {
          "name": "stdout",
          "output_type": "stream",
          "text": [
            "Train Accuracy: 0.7231749723677083      Train Loss: 1.8281613364980427\n",
            "epoch number is 2\n"
          ]
        },
        {
          "name": "stderr",
          "output_type": "stream",
          "text": [
            "Current epoch number :  37%|███▋      | 1000/2714 [24:23<55:36,  1.95s/it]"
          ]
        },
        {
          "name": "stdout",
          "output_type": "stream",
          "text": [
            "Saving the model for epoch number 3\n"
          ]
        },
        {
          "name": "stderr",
          "output_type": "stream",
          "text": [
            "Current epoch number :  74%|███████▎  | 2000/2714 [48:45<23:07,  1.94s/it]"
          ]
        },
        {
          "name": "stdout",
          "output_type": "stream",
          "text": [
            "Saving the model for epoch number 3\n"
          ]
        },
        {
          "name": "stderr",
          "output_type": "stream",
          "text": [
            "Current epoch number : 100%|██████████| 2714/2714 [1:06:06<00:00,  1.46s/it]\n"
          ]
        },
        {
          "name": "stdout",
          "output_type": "stream",
          "text": [
            "Train Accuracy: 0.7843162767155344      Train Loss: 1.3491209464294558\n",
            "epoch number is 3\n"
          ]
        },
        {
          "name": "stderr",
          "output_type": "stream",
          "text": [
            "Current epoch number :  22%|██▏       | 604/2714 [14:44<51:25,  1.46s/it]"
          ]
        }
      ],
      "source": [
        "EPOCHS = 5\n",
        "\n",
        "model.to(device)\n",
        "\n",
        "for epoch in range(EPOCHS):\n",
        "    print(\"epoch number is \" + str(epoch))\n",
        "    train_acc, train_loss = train(model, train_data_loader, epoch+1, optimizer1, loss_fn1)\n",
        "    print(f\"Train Accuracy: {train_acc}      Train Loss: {train_loss}\")\n",
        "\n",
        "    #if epoch==2:\n",
        "      #val_acc, val_loss = eval_model(model, test_data_loader)\n",
        "      #print(f\"Testing Accuracy: {val_acc}   Testing Loss: {val_loss}\")\n",
        "    # val_acc = eval_model(model, valid_data_loader)\n",
        "    # print(f\"Validation Accuracy: {val_acc}\")\n"
      ]
    },
    {
      "cell_type": "code",
      "execution_count": null,
      "metadata": {
        "id": "iMk3zbEIXAud"
      },
      "outputs": [],
      "source": [
        "#model = QAModel()\n",
        "#model.load_state_dict(torch.load('checkpoint.pth'))"
      ]
    },
    {
      "cell_type": "code",
      "execution_count": null,
      "metadata": {
        "colab": {
          "base_uri": "https://localhost:8080/"
        },
        "id": "MHdvLum9W9kt",
        "outputId": "f43cd64b-3162-4b80-a2c7-49fca67c5022"
      },
      "outputs": [
        {
          "name": "stderr",
          "output_type": "stream",
          "text": [
            "Running Evaluation: 100%|██████████| 186/186 [01:32<00:00,  2.01it/s]"
          ]
        },
        {
          "name": "stdout",
          "output_type": "stream",
          "text": [
            "Testing Accuracy: 0.6772513440860215 \n"
          ]
        },
        {
          "name": "stderr",
          "output_type": "stream",
          "text": [
            "\n"
          ]
        }
      ],
      "source": [
        "#Testing after training for three iterations\n",
        "\n",
        "acc_list, test_acc = eval_model(model, test_data_loader)\n",
        "print(f\"Testing Accuracy: {test_acc} \" )"
      ]
    },
    {
      "cell_type": "code",
      "execution_count": null,
      "metadata": {
        "id": "XE3LG6MUpszv"
      },
      "outputs": [],
      "source": [
        "# saving in drive\n",
        "torch.save(model.state_dict(), '/kaggle/working/best_model_state.bin')"
      ]
    },
    {
      "cell_type": "code",
      "execution_count": null,
      "metadata": {
        "id": "QR5d3uExsEpY"
      },
      "outputs": [],
      "source": [
        "# plot Accuracy\n",
        "plt.plot(total_acc, color='blue')\n",
        "plt.ylabel('Accuracy')\n",
        "plt.xlabel('Runs->')\n",
        "plt.title(\"Total Train Accuracy over time\");"
      ]
    },
    {
      "cell_type": "code",
      "execution_count": null,
      "metadata": {
        "id": "FV_tu2p6o-wa"
      },
      "outputs": [],
      "source": [
        "# plot Loss\n",
        "plt.plot(total_loss, color='red')\n",
        "plt.ylabel('Loss')\n",
        "plt.xlabel('Runs->')\n",
        "plt.title(\"Total Train Loss over time\");"
      ]
    },
    {
      "cell_type": "code",
      "execution_count": null,
      "metadata": {
        "id": "GcJtJVKpGzWY"
      },
      "outputs": [],
      "source": [
        "# plot Accuracy\n",
        "plt.plot(total_acc, color='blue')\n",
        "plt.ylabel('Accuracy')\n",
        "plt.xlabel('Runs->')\n",
        "plt.title(\"Total Train Accuracy over time\");\n",
        "\n",
        "\n",
        "# plot Loss\n",
        "plt.plot(total_loss, color='red')\n",
        "plt.ylabel('Loss')\n",
        "plt.xlabel('Runs->')\n",
        "plt.title(\"Total Train Loss over time\");"
      ]
    },
    {
      "cell_type": "markdown",
      "metadata": {
        "id": "AERYt27DCMfB"
      },
      "source": [
        "###ZERO shot learning"
      ]
    },
    {
      "cell_type": "code",
      "execution_count": null,
      "metadata": {
        "id": "lRQC84D1CP2G"
      },
      "outputs": [],
      "source": [
        "model = QAModel()\n",
        "\n",
        "model = model.to('cuda')"
      ]
    },
    {
      "cell_type": "code",
      "execution_count": null,
      "metadata": {
        "colab": {
          "base_uri": "https://localhost:8080/"
        },
        "id": "yEgc4wNFCPyp",
        "outputId": "0f2a17bb-7c98-4d23-eeaf-153be39dd2da"
      },
      "outputs": [
        {
          "name": "stderr",
          "output_type": "stream",
          "text": [
            "Running Evaluation: 100%|██████████| 186/186 [01:25<00:00,  2.17it/s]"
          ]
        },
        {
          "name": "stdout",
          "output_type": "stream",
          "text": [
            "Testing Accuracy: 0.006132392473118279 \n"
          ]
        },
        {
          "name": "stderr",
          "output_type": "stream",
          "text": [
            "\n"
          ]
        }
      ],
      "source": [
        "acc_list, test_acc = eval_model(model, test_data_loader)\n",
        "print(f\"Testing Accuracy: {test_acc} \" )"
      ]
    },
    {
      "cell_type": "markdown",
      "metadata": {
        "id": "xqc1zLj_h5gn"
      },
      "source": [
        "###Adding a LSTM layer-"
      ]
    },
    {
      "cell_type": "code",
      "execution_count": null,
      "metadata": {
        "colab": {
          "base_uri": "https://localhost:8080/"
        },
        "id": "J_JQGD0rh9-_",
        "outputId": "a349365b-d4a0-4c34-db1b-1507bc0afa65"
      },
      "outputs": [
        {
          "name": "stdout",
          "output_type": "stream",
          "text": [
            "Model is on CUDA (GPU).\n"
          ]
        }
      ],
      "source": [
        "model = QAModel()\n",
        "\n",
        "model = model.to('cuda')\n",
        "\n",
        "\n",
        "if next(model.parameters()).is_cuda:\n",
        "    print(\"Model is on CUDA (GPU).\")\n",
        "else:\n",
        "    print(\"Model is on CPU.\")"
      ]
    },
    {
      "cell_type": "code",
      "execution_count": null,
      "metadata": {
        "id": "qFmuvGoOh96t"
      },
      "outputs": [],
      "source": [
        "learning_rate = 2e-5\n",
        "weight_decay = 2e-2\n",
        "gamma = 0.9\n",
        "optimizer1 = torch.optim.AdamW(model.parameters(), lr=learning_rate, weight_decay=weight_decay)\n",
        "loss_fn1 = nn.CrossEntropyLoss()\n",
        "scheduler = ExponentialLR(optimizer1, gamma=gamma)\n",
        "total_accuracy = []\n",
        "total_loss = []"
      ]
    },
    {
      "cell_type": "code",
      "execution_count": null,
      "metadata": {
        "colab": {
          "base_uri": "https://localhost:8080/",
          "height": 480
        },
        "id": "_3uq5Dyvh92f",
        "outputId": "20830027-d56f-4237-a420-c2c4e76df536"
      },
      "outputs": [
        {
          "name": "stdout",
          "output_type": "stream",
          "text": [
            "epoch number is 0\n"
          ]
        },
        {
          "name": "stderr",
          "output_type": "stream",
          "text": [
            "Current epoch number :   0%|          | 0/2714 [00:00<?, ?it/s]/usr/local/lib/python3.10/dist-packages/torch/nn/modules/rnn.py:879: UserWarning: RNN module weights are not part of single contiguous chunk of memory. This means they need to be compacted at every call, possibly greatly increasing memory usage. To compact weights again call flatten_parameters(). (Triggered internally at ../aten/src/ATen/native/cudnn/RNN.cpp:982.)\n",
            "  result = _VF.lstm(input, hx, self._flat_weights, self.bias, self.num_layers,\n",
            "Current epoch number :   0%|          | 0/2714 [00:00<?, ?it/s]\n"
          ]
        },
        {
          "ename": "RuntimeError",
          "evalue": "ignored",
          "output_type": "error",
          "traceback": [
            "\u001b[0;31m---------------------------------------------------------------------------\u001b[0m",
            "\u001b[0;31mRuntimeError\u001b[0m                              Traceback (most recent call last)",
            "\u001b[0;32m<ipython-input-56-d2e2f73759d5>\u001b[0m in \u001b[0;36m<cell line: 4>\u001b[0;34m()\u001b[0m\n\u001b[1;32m      4\u001b[0m \u001b[0;32mfor\u001b[0m \u001b[0mepoch\u001b[0m \u001b[0;32min\u001b[0m \u001b[0mrange\u001b[0m\u001b[0;34m(\u001b[0m\u001b[0mEPOCHS\u001b[0m\u001b[0;34m)\u001b[0m\u001b[0;34m:\u001b[0m\u001b[0;34m\u001b[0m\u001b[0;34m\u001b[0m\u001b[0m\n\u001b[1;32m      5\u001b[0m     \u001b[0mprint\u001b[0m\u001b[0;34m(\u001b[0m\u001b[0;34m\"epoch number is \"\u001b[0m \u001b[0;34m+\u001b[0m \u001b[0mstr\u001b[0m\u001b[0;34m(\u001b[0m\u001b[0mepoch\u001b[0m\u001b[0;34m)\u001b[0m\u001b[0;34m)\u001b[0m\u001b[0;34m\u001b[0m\u001b[0;34m\u001b[0m\u001b[0m\n\u001b[0;32m----> 6\u001b[0;31m     \u001b[0mtrain_acc\u001b[0m\u001b[0;34m,\u001b[0m \u001b[0mtrain_loss\u001b[0m \u001b[0;34m=\u001b[0m \u001b[0mtrain\u001b[0m\u001b[0;34m(\u001b[0m\u001b[0mmodel\u001b[0m\u001b[0;34m,\u001b[0m \u001b[0mtrain_data_loader\u001b[0m\u001b[0;34m,\u001b[0m \u001b[0mepoch\u001b[0m\u001b[0;34m+\u001b[0m\u001b[0;36m1\u001b[0m\u001b[0;34m,\u001b[0m \u001b[0moptimizer1\u001b[0m\u001b[0;34m,\u001b[0m \u001b[0mloss_fn1\u001b[0m\u001b[0;34m,\u001b[0m \u001b[0;34m'model_lstm.pth'\u001b[0m\u001b[0;34m)\u001b[0m\u001b[0;34m\u001b[0m\u001b[0;34m\u001b[0m\u001b[0m\n\u001b[0m\u001b[1;32m      7\u001b[0m     \u001b[0mprint\u001b[0m\u001b[0;34m(\u001b[0m\u001b[0;34mf\"Train Accuracy: {train_acc}      Train Loss: {train_loss}\"\u001b[0m\u001b[0;34m)\u001b[0m\u001b[0;34m\u001b[0m\u001b[0;34m\u001b[0m\u001b[0m\n\u001b[1;32m      8\u001b[0m     \u001b[0macc_list\u001b[0m\u001b[0;34m,\u001b[0m \u001b[0mtest_acc\u001b[0m \u001b[0;34m=\u001b[0m \u001b[0meval_model\u001b[0m\u001b[0;34m(\u001b[0m\u001b[0mmodel\u001b[0m\u001b[0;34m,\u001b[0m \u001b[0mtest_data_loader\u001b[0m\u001b[0;34m)\u001b[0m\u001b[0;34m\u001b[0m\u001b[0;34m\u001b[0m\u001b[0m\n",
            "\u001b[0;32m<ipython-input-52-49b9f216cfba>\u001b[0m in \u001b[0;36mtrain\u001b[0;34m(model, data, epochNumber, optimizer, loss_fn, name)\u001b[0m\n\u001b[1;32m     13\u001b[0m     \u001b[0mstart_positions\u001b[0m \u001b[0;34m=\u001b[0m \u001b[0mbatch\u001b[0m\u001b[0;34m[\u001b[0m\u001b[0;34m'startPos'\u001b[0m\u001b[0;34m]\u001b[0m\u001b[0;34m.\u001b[0m\u001b[0mto\u001b[0m\u001b[0;34m(\u001b[0m\u001b[0mdevice\u001b[0m\u001b[0;34m)\u001b[0m\u001b[0;34m\u001b[0m\u001b[0;34m\u001b[0m\u001b[0m\n\u001b[1;32m     14\u001b[0m     \u001b[0mend_positions\u001b[0m \u001b[0;34m=\u001b[0m \u001b[0mbatch\u001b[0m\u001b[0;34m[\u001b[0m\u001b[0;34m'endPos'\u001b[0m\u001b[0;34m]\u001b[0m\u001b[0;34m.\u001b[0m\u001b[0mto\u001b[0m\u001b[0;34m(\u001b[0m\u001b[0mdevice\u001b[0m\u001b[0;34m)\u001b[0m\u001b[0;34m\u001b[0m\u001b[0;34m\u001b[0m\u001b[0m\n\u001b[0;32m---> 15\u001b[0;31m     \u001b[0mout_start\u001b[0m\u001b[0;34m,\u001b[0m \u001b[0mout_end\u001b[0m \u001b[0;34m=\u001b[0m \u001b[0mmodel\u001b[0m\u001b[0;34m(\u001b[0m\u001b[0minput_ids\u001b[0m\u001b[0;34m=\u001b[0m\u001b[0minput_ids\u001b[0m\u001b[0;34m,\u001b[0m \u001b[0mattention_mask\u001b[0m\u001b[0;34m=\u001b[0m\u001b[0mattention_mask\u001b[0m\u001b[0;34m,\u001b[0m \u001b[0mtoken_type_ids\u001b[0m\u001b[0;34m=\u001b[0m\u001b[0mtoken_type_ids\u001b[0m\u001b[0;34m)\u001b[0m\u001b[0;34m\u001b[0m\u001b[0;34m\u001b[0m\u001b[0m\n\u001b[0m\u001b[1;32m     16\u001b[0m     \u001b[0;31m#loss = loss_fn(out_start, out_end, start_positions, end_positions)  # <---BASELINE.  Cross Entropy Loss is returned by Default\u001b[0m\u001b[0;34m\u001b[0m\u001b[0;34m\u001b[0m\u001b[0m\n\u001b[1;32m     17\u001b[0m \u001b[0;34m\u001b[0m\u001b[0m\n",
            "\u001b[0;32m/usr/local/lib/python3.10/dist-packages/torch/nn/modules/module.py\u001b[0m in \u001b[0;36m_wrapped_call_impl\u001b[0;34m(self, *args, **kwargs)\u001b[0m\n\u001b[1;32m   1516\u001b[0m             \u001b[0;32mreturn\u001b[0m \u001b[0mself\u001b[0m\u001b[0;34m.\u001b[0m\u001b[0m_compiled_call_impl\u001b[0m\u001b[0;34m(\u001b[0m\u001b[0;34m*\u001b[0m\u001b[0margs\u001b[0m\u001b[0;34m,\u001b[0m \u001b[0;34m**\u001b[0m\u001b[0mkwargs\u001b[0m\u001b[0;34m)\u001b[0m  \u001b[0;31m# type: ignore[misc]\u001b[0m\u001b[0;34m\u001b[0m\u001b[0;34m\u001b[0m\u001b[0m\n\u001b[1;32m   1517\u001b[0m         \u001b[0;32melse\u001b[0m\u001b[0;34m:\u001b[0m\u001b[0;34m\u001b[0m\u001b[0;34m\u001b[0m\u001b[0m\n\u001b[0;32m-> 1518\u001b[0;31m             \u001b[0;32mreturn\u001b[0m \u001b[0mself\u001b[0m\u001b[0;34m.\u001b[0m\u001b[0m_call_impl\u001b[0m\u001b[0;34m(\u001b[0m\u001b[0;34m*\u001b[0m\u001b[0margs\u001b[0m\u001b[0;34m,\u001b[0m \u001b[0;34m**\u001b[0m\u001b[0mkwargs\u001b[0m\u001b[0;34m)\u001b[0m\u001b[0;34m\u001b[0m\u001b[0;34m\u001b[0m\u001b[0m\n\u001b[0m\u001b[1;32m   1519\u001b[0m \u001b[0;34m\u001b[0m\u001b[0m\n\u001b[1;32m   1520\u001b[0m     \u001b[0;32mdef\u001b[0m \u001b[0m_call_impl\u001b[0m\u001b[0;34m(\u001b[0m\u001b[0mself\u001b[0m\u001b[0;34m,\u001b[0m \u001b[0;34m*\u001b[0m\u001b[0margs\u001b[0m\u001b[0;34m,\u001b[0m \u001b[0;34m**\u001b[0m\u001b[0mkwargs\u001b[0m\u001b[0;34m)\u001b[0m\u001b[0;34m:\u001b[0m\u001b[0;34m\u001b[0m\u001b[0;34m\u001b[0m\u001b[0m\n",
            "\u001b[0;32m/usr/local/lib/python3.10/dist-packages/torch/nn/modules/module.py\u001b[0m in \u001b[0;36m_call_impl\u001b[0;34m(self, *args, **kwargs)\u001b[0m\n\u001b[1;32m   1525\u001b[0m                 \u001b[0;32mor\u001b[0m \u001b[0m_global_backward_pre_hooks\u001b[0m \u001b[0;32mor\u001b[0m \u001b[0m_global_backward_hooks\u001b[0m\u001b[0;34m\u001b[0m\u001b[0;34m\u001b[0m\u001b[0m\n\u001b[1;32m   1526\u001b[0m                 or _global_forward_hooks or _global_forward_pre_hooks):\n\u001b[0;32m-> 1527\u001b[0;31m             \u001b[0;32mreturn\u001b[0m \u001b[0mforward_call\u001b[0m\u001b[0;34m(\u001b[0m\u001b[0;34m*\u001b[0m\u001b[0margs\u001b[0m\u001b[0;34m,\u001b[0m \u001b[0;34m**\u001b[0m\u001b[0mkwargs\u001b[0m\u001b[0;34m)\u001b[0m\u001b[0;34m\u001b[0m\u001b[0;34m\u001b[0m\u001b[0m\n\u001b[0m\u001b[1;32m   1528\u001b[0m \u001b[0;34m\u001b[0m\u001b[0m\n\u001b[1;32m   1529\u001b[0m         \u001b[0;32mtry\u001b[0m\u001b[0;34m:\u001b[0m\u001b[0;34m\u001b[0m\u001b[0;34m\u001b[0m\u001b[0m\n",
            "\u001b[0;32m<ipython-input-48-24bb12d10cb3>\u001b[0m in \u001b[0;36mforward\u001b[0;34m(self, input_ids, attention_mask, token_type_ids)\u001b[0m\n\u001b[1;32m     25\u001b[0m \u001b[0;34m\u001b[0m\u001b[0m\n\u001b[1;32m     26\u001b[0m         \u001b[0;31m# Apply LSTM\u001b[0m\u001b[0;34m\u001b[0m\u001b[0;34m\u001b[0m\u001b[0m\n\u001b[0;32m---> 27\u001b[0;31m         \u001b[0mout\u001b[0m\u001b[0;34m,\u001b[0m \u001b[0m_\u001b[0m \u001b[0;34m=\u001b[0m \u001b[0mself\u001b[0m\u001b[0;34m.\u001b[0m\u001b[0mlstm\u001b[0m\u001b[0;34m(\u001b[0m\u001b[0mout\u001b[0m\u001b[0;34m)\u001b[0m\u001b[0;34m\u001b[0m\u001b[0;34m\u001b[0m\u001b[0m\n\u001b[0m\u001b[1;32m     28\u001b[0m \u001b[0;34m\u001b[0m\u001b[0m\n\u001b[1;32m     29\u001b[0m         \u001b[0;31m# Flatten the output before passing through linear layers\u001b[0m\u001b[0;34m\u001b[0m\u001b[0;34m\u001b[0m\u001b[0m\n",
            "\u001b[0;32m/usr/local/lib/python3.10/dist-packages/torch/nn/modules/module.py\u001b[0m in \u001b[0;36m_wrapped_call_impl\u001b[0;34m(self, *args, **kwargs)\u001b[0m\n\u001b[1;32m   1516\u001b[0m             \u001b[0;32mreturn\u001b[0m \u001b[0mself\u001b[0m\u001b[0;34m.\u001b[0m\u001b[0m_compiled_call_impl\u001b[0m\u001b[0;34m(\u001b[0m\u001b[0;34m*\u001b[0m\u001b[0margs\u001b[0m\u001b[0;34m,\u001b[0m \u001b[0;34m**\u001b[0m\u001b[0mkwargs\u001b[0m\u001b[0;34m)\u001b[0m  \u001b[0;31m# type: ignore[misc]\u001b[0m\u001b[0;34m\u001b[0m\u001b[0;34m\u001b[0m\u001b[0m\n\u001b[1;32m   1517\u001b[0m         \u001b[0;32melse\u001b[0m\u001b[0;34m:\u001b[0m\u001b[0;34m\u001b[0m\u001b[0;34m\u001b[0m\u001b[0m\n\u001b[0;32m-> 1518\u001b[0;31m             \u001b[0;32mreturn\u001b[0m \u001b[0mself\u001b[0m\u001b[0;34m.\u001b[0m\u001b[0m_call_impl\u001b[0m\u001b[0;34m(\u001b[0m\u001b[0;34m*\u001b[0m\u001b[0margs\u001b[0m\u001b[0;34m,\u001b[0m \u001b[0;34m**\u001b[0m\u001b[0mkwargs\u001b[0m\u001b[0;34m)\u001b[0m\u001b[0;34m\u001b[0m\u001b[0;34m\u001b[0m\u001b[0m\n\u001b[0m\u001b[1;32m   1519\u001b[0m \u001b[0;34m\u001b[0m\u001b[0m\n\u001b[1;32m   1520\u001b[0m     \u001b[0;32mdef\u001b[0m \u001b[0m_call_impl\u001b[0m\u001b[0;34m(\u001b[0m\u001b[0mself\u001b[0m\u001b[0;34m,\u001b[0m \u001b[0;34m*\u001b[0m\u001b[0margs\u001b[0m\u001b[0;34m,\u001b[0m \u001b[0;34m**\u001b[0m\u001b[0mkwargs\u001b[0m\u001b[0;34m)\u001b[0m\u001b[0;34m:\u001b[0m\u001b[0;34m\u001b[0m\u001b[0;34m\u001b[0m\u001b[0m\n",
            "\u001b[0;32m/usr/local/lib/python3.10/dist-packages/torch/nn/modules/module.py\u001b[0m in \u001b[0;36m_call_impl\u001b[0;34m(self, *args, **kwargs)\u001b[0m\n\u001b[1;32m   1525\u001b[0m                 \u001b[0;32mor\u001b[0m \u001b[0m_global_backward_pre_hooks\u001b[0m \u001b[0;32mor\u001b[0m \u001b[0m_global_backward_hooks\u001b[0m\u001b[0;34m\u001b[0m\u001b[0;34m\u001b[0m\u001b[0m\n\u001b[1;32m   1526\u001b[0m                 or _global_forward_hooks or _global_forward_pre_hooks):\n\u001b[0;32m-> 1527\u001b[0;31m             \u001b[0;32mreturn\u001b[0m \u001b[0mforward_call\u001b[0m\u001b[0;34m(\u001b[0m\u001b[0;34m*\u001b[0m\u001b[0margs\u001b[0m\u001b[0;34m,\u001b[0m \u001b[0;34m**\u001b[0m\u001b[0mkwargs\u001b[0m\u001b[0;34m)\u001b[0m\u001b[0;34m\u001b[0m\u001b[0;34m\u001b[0m\u001b[0m\n\u001b[0m\u001b[1;32m   1528\u001b[0m \u001b[0;34m\u001b[0m\u001b[0m\n\u001b[1;32m   1529\u001b[0m         \u001b[0;32mtry\u001b[0m\u001b[0;34m:\u001b[0m\u001b[0;34m\u001b[0m\u001b[0;34m\u001b[0m\u001b[0m\n",
            "\u001b[0;32m/usr/local/lib/python3.10/dist-packages/torch/nn/modules/rnn.py\u001b[0m in \u001b[0;36mforward\u001b[0;34m(self, input, hx)\u001b[0m\n\u001b[1;32m    877\u001b[0m \u001b[0;34m\u001b[0m\u001b[0m\n\u001b[1;32m    878\u001b[0m         \u001b[0;32mif\u001b[0m \u001b[0mbatch_sizes\u001b[0m \u001b[0;32mis\u001b[0m \u001b[0;32mNone\u001b[0m\u001b[0;34m:\u001b[0m\u001b[0;34m\u001b[0m\u001b[0;34m\u001b[0m\u001b[0m\n\u001b[0;32m--> 879\u001b[0;31m             result = _VF.lstm(input, hx, self._flat_weights, self.bias, self.num_layers,\n\u001b[0m\u001b[1;32m    880\u001b[0m                               self.dropout, self.training, self.bidirectional, self.batch_first)\n\u001b[1;32m    881\u001b[0m         \u001b[0;32melse\u001b[0m\u001b[0;34m:\u001b[0m\u001b[0;34m\u001b[0m\u001b[0;34m\u001b[0m\u001b[0m\n",
            "\u001b[0;31mRuntimeError\u001b[0m: shape '[2359296, 1]' is invalid for input of size 1179648"
          ]
        }
      ],
      "source": [
        "#training\n",
        "EPOCHS = 3\n",
        "\n",
        "for epoch in range(EPOCHS):\n",
        "    print(\"epoch number is \" + str(epoch))\n",
        "    train_acc, train_loss = train(model, train_data_loader, epoch+1, optimizer1, loss_fn1, 'model_lstm.pth')\n",
        "    print(f\"Train Accuracy: {train_acc}      Train Loss: {train_loss}\")\n",
        "    acc_list, test_acc = eval_model(model, test_data_loader)\n",
        "    print(f\"Testing accuracy after epoch {epoch} is {test_acc}\")"
      ]
    },
    {
      "cell_type": "markdown",
      "metadata": {
        "id": "hNXWwutgd2rc"
      },
      "source": [
        "###Different Model Architectures - linear layer is 768*2 - 384 final layer is 384 * 2"
      ]
    },
    {
      "cell_type": "code",
      "execution_count": null,
      "metadata": {
        "colab": {
          "base_uri": "https://localhost:8080/"
        },
        "id": "BaFUJYGvd7F0",
        "outputId": "fe5dfae3-934e-47e1-ddfe-65b697b26e66"
      },
      "outputs": [
        {
          "name": "stdout",
          "output_type": "stream",
          "text": [
            "Model is on CUDA (GPU).\n"
          ]
        }
      ],
      "source": [
        "model = QAModel()\n",
        "\n",
        "model = model.to('cuda')\n",
        "\n",
        "\n",
        "if next(model.parameters()).is_cuda:\n",
        "    print(\"Model is on CUDA (GPU).\")\n",
        "else:\n",
        "    print(\"Model is on CPU.\")"
      ]
    },
    {
      "cell_type": "code",
      "execution_count": null,
      "metadata": {
        "id": "nnODo01Id7Av"
      },
      "outputs": [],
      "source": [
        "learning_rate = 2e-5\n",
        "weight_decay = 2e-2\n",
        "gamma = 0.9\n",
        "optimizer1 = torch.optim.AdamW(model.parameters(), lr=learning_rate, weight_decay=weight_decay)\n",
        "loss_fn1 = nn.CrossEntropyLoss()\n",
        "scheduler = ExponentialLR(optimizer1, gamma=gamma)\n",
        "total_accuracy = []\n",
        "total_loss = []"
      ]
    },
    {
      "cell_type": "code",
      "execution_count": null,
      "metadata": {
        "colab": {
          "base_uri": "https://localhost:8080/"
        },
        "id": "er9Ie6HPd645",
        "outputId": "f7ca31f5-1186-4181-bdeb-d56d1c8e4911"
      },
      "outputs": [
        {
          "name": "stdout",
          "output_type": "stream",
          "text": [
            "epoch number is 0\n"
          ]
        },
        {
          "name": "stderr",
          "output_type": "stream",
          "text": [
            "Current epoch number :   9%|▉         | 249/2714 [05:38<56:36,  1.38s/it]"
          ]
        },
        {
          "name": "stdout",
          "output_type": "stream",
          "text": [
            "current accuracy : 0.2964375\n",
            "current loss : 6.063306154251099\n"
          ]
        },
        {
          "name": "stderr",
          "output_type": "stream",
          "text": [
            "\rCurrent epoch number :   9%|▉         | 250/2714 [05:43<1:43:08,  2.51s/it]"
          ]
        },
        {
          "name": "stdout",
          "output_type": "stream",
          "text": [
            "Saving the model for epoch number 1\n"
          ]
        },
        {
          "name": "stderr",
          "output_type": "stream",
          "text": [
            "Current epoch number :  18%|█▊        | 499/2714 [11:28<51:16,  1.39s/it]"
          ]
        },
        {
          "name": "stdout",
          "output_type": "stream",
          "text": [
            "current accuracy : 0.4158125\n",
            "current loss : 4.79327962231636\n"
          ]
        },
        {
          "name": "stderr",
          "output_type": "stream",
          "text": [
            "\rCurrent epoch number :  18%|█▊        | 500/2714 [11:31<1:07:41,  1.83s/it]"
          ]
        },
        {
          "name": "stdout",
          "output_type": "stream",
          "text": [
            "Saving the model for epoch number 1\n"
          ]
        },
        {
          "name": "stderr",
          "output_type": "stream",
          "text": [
            "Current epoch number :  28%|██▊       | 749/2714 [17:15<45:23,  1.39s/it]"
          ]
        },
        {
          "name": "stdout",
          "output_type": "stream",
          "text": [
            "current accuracy : 0.47127083333333336\n",
            "current loss : 4.21756974140803\n"
          ]
        },
        {
          "name": "stderr",
          "output_type": "stream",
          "text": [
            "\rCurrent epoch number :  28%|██▊       | 750/2714 [17:18<1:00:48,  1.86s/it]"
          ]
        },
        {
          "name": "stdout",
          "output_type": "stream",
          "text": [
            "Saving the model for epoch number 1\n"
          ]
        },
        {
          "name": "stderr",
          "output_type": "stream",
          "text": [
            "Current epoch number :  37%|███▋      | 999/2714 [23:03<39:44,  1.39s/it]"
          ]
        },
        {
          "name": "stdout",
          "output_type": "stream",
          "text": [
            "current accuracy : 0.5055\n",
            "current loss : 3.8783347203731537\n"
          ]
        },
        {
          "name": "stderr",
          "output_type": "stream",
          "text": [
            "\rCurrent epoch number :  37%|███▋      | 1000/2714 [23:08<1:09:26,  2.43s/it]"
          ]
        },
        {
          "name": "stdout",
          "output_type": "stream",
          "text": [
            "Saving the model for epoch number 1\n"
          ]
        },
        {
          "name": "stderr",
          "output_type": "stream",
          "text": [
            "Current epoch number :  46%|████▌     | 1249/2714 [28:52<33:48,  1.38s/it]"
          ]
        },
        {
          "name": "stdout",
          "output_type": "stream",
          "text": [
            "current accuracy : 0.5268625\n",
            "current loss : 3.6604588099479676\n"
          ]
        },
        {
          "name": "stderr",
          "output_type": "stream",
          "text": [
            "\rCurrent epoch number :  46%|████▌     | 1250/2714 [28:55<45:02,  1.85s/it]"
          ]
        },
        {
          "name": "stdout",
          "output_type": "stream",
          "text": [
            "Saving the model for epoch number 1\n"
          ]
        },
        {
          "name": "stderr",
          "output_type": "stream",
          "text": [
            "Current epoch number :  55%|█████▌    | 1499/2714 [34:39<28:06,  1.39s/it]"
          ]
        },
        {
          "name": "stdout",
          "output_type": "stream",
          "text": [
            "current accuracy : 0.54315625\n",
            "current loss : 3.4973766616980235\n"
          ]
        },
        {
          "name": "stderr",
          "output_type": "stream",
          "text": [
            "\rCurrent epoch number :  55%|█████▌    | 1500/2714 [34:43<38:41,  1.91s/it]"
          ]
        },
        {
          "name": "stdout",
          "output_type": "stream",
          "text": [
            "Saving the model for epoch number 1\n"
          ]
        },
        {
          "name": "stderr",
          "output_type": "stream",
          "text": [
            "Current epoch number :  64%|██████▍   | 1749/2714 [40:27<22:14,  1.38s/it]"
          ]
        },
        {
          "name": "stdout",
          "output_type": "stream",
          "text": [
            "current accuracy : 0.5573392857142857\n",
            "current loss : 3.355613072531564\n"
          ]
        },
        {
          "name": "stderr",
          "output_type": "stream",
          "text": [
            "\rCurrent epoch number :  64%|██████▍   | 1750/2714 [40:30<29:36,  1.84s/it]"
          ]
        },
        {
          "name": "stdout",
          "output_type": "stream",
          "text": [
            "Saving the model for epoch number 1\n"
          ]
        },
        {
          "name": "stderr",
          "output_type": "stream",
          "text": [
            "Current epoch number :  74%|███████▎  | 1999/2714 [46:14<16:30,  1.39s/it]"
          ]
        },
        {
          "name": "stdout",
          "output_type": "stream",
          "text": [
            "current accuracy : 0.568953125\n",
            "current loss : 3.24571166908741\n"
          ]
        },
        {
          "name": "stderr",
          "output_type": "stream",
          "text": [
            "\rCurrent epoch number :  74%|███████▎  | 2000/2714 [46:18<22:40,  1.91s/it]"
          ]
        },
        {
          "name": "stdout",
          "output_type": "stream",
          "text": [
            "Saving the model for epoch number 1\n"
          ]
        },
        {
          "name": "stderr",
          "output_type": "stream",
          "text": [
            "Current epoch number :  83%|████████▎ | 2249/2714 [52:02<10:44,  1.39s/it]"
          ]
        },
        {
          "name": "stdout",
          "output_type": "stream",
          "text": [
            "current accuracy : 0.5785902777777778\n",
            "current loss : 3.1543400825394525\n"
          ]
        },
        {
          "name": "stderr",
          "output_type": "stream",
          "text": [
            "\rCurrent epoch number :  83%|████████▎ | 2250/2714 [52:08<20:52,  2.70s/it]"
          ]
        },
        {
          "name": "stdout",
          "output_type": "stream",
          "text": [
            "Saving the model for epoch number 1\n"
          ]
        },
        {
          "name": "stderr",
          "output_type": "stream",
          "text": [
            "Current epoch number :  92%|█████████▏| 2499/2714 [57:52<04:56,  1.38s/it]"
          ]
        },
        {
          "name": "stdout",
          "output_type": "stream",
          "text": [
            "current accuracy : 0.5868625\n",
            "current loss : 3.074198183679581\n"
          ]
        },
        {
          "name": "stderr",
          "output_type": "stream",
          "text": [
            "\rCurrent epoch number :  92%|█████████▏| 2500/2714 [57:55<06:35,  1.85s/it]"
          ]
        },
        {
          "name": "stdout",
          "output_type": "stream",
          "text": [
            "Saving the model for epoch number 1\n"
          ]
        },
        {
          "name": "stderr",
          "output_type": "stream",
          "text": [
            "Current epoch number : 100%|██████████| 2714/2714 [1:02:50<00:00,  1.39s/it]\n"
          ]
        },
        {
          "name": "stdout",
          "output_type": "stream",
          "text": [
            "Train Accuracy: 0.5929681742858957      Train Loss: 3.014860570782146\n"
          ]
        },
        {
          "name": "stderr",
          "output_type": "stream",
          "text": [
            "Running Evaluation: 100%|██████████| 186/186 [01:28<00:00,  2.10it/s]\n"
          ]
        },
        {
          "name": "stdout",
          "output_type": "stream",
          "text": [
            "Testing accuracy after epoch 0 is 0.6582661290322581\n",
            "epoch number is 1\n"
          ]
        },
        {
          "name": "stderr",
          "output_type": "stream",
          "text": [
            "Current epoch number :   9%|▉         | 250/2714 [05:47<1:16:57,  1.87s/it]"
          ]
        },
        {
          "name": "stdout",
          "output_type": "stream",
          "text": [
            "Saving the model for epoch number 2\n"
          ]
        },
        {
          "name": "stderr",
          "output_type": "stream",
          "text": [
            "Current epoch number :  18%|█▊        | 500/2714 [11:35<1:09:02,  1.87s/it]"
          ]
        },
        {
          "name": "stdout",
          "output_type": "stream",
          "text": [
            "Saving the model for epoch number 2\n"
          ]
        },
        {
          "name": "stderr",
          "output_type": "stream",
          "text": [
            "Current epoch number :  37%|███▋      | 1000/2714 [23:09<1:04:19,  2.25s/it]"
          ]
        },
        {
          "name": "stdout",
          "output_type": "stream",
          "text": [
            "Saving the model for epoch number 2\n"
          ]
        },
        {
          "name": "stderr",
          "output_type": "stream",
          "text": [
            "Current epoch number :  74%|███████▎  | 2000/2714 [46:14<22:12,  1.87s/it]"
          ]
        },
        {
          "name": "stdout",
          "output_type": "stream",
          "text": [
            "Saving the model for epoch number 2\n"
          ]
        },
        {
          "name": "stderr",
          "output_type": "stream",
          "text": [
            "Current epoch number :  83%|████████▎ | 2250/2714 [52:02<15:11,  1.96s/it]"
          ]
        },
        {
          "name": "stdout",
          "output_type": "stream",
          "text": [
            "Saving the model for epoch number 2\n"
          ]
        },
        {
          "name": "stderr",
          "output_type": "stream",
          "text": [
            "Current epoch number :  92%|█████████▏| 2500/2714 [57:49<06:37,  1.86s/it]"
          ]
        },
        {
          "name": "stdout",
          "output_type": "stream",
          "text": [
            "Saving the model for epoch number 2\n"
          ]
        },
        {
          "name": "stderr",
          "output_type": "stream",
          "text": [
            "Current epoch number : 100%|██████████| 2714/2714 [1:02:44<00:00,  1.39s/it]\n"
          ]
        },
        {
          "name": "stdout",
          "output_type": "stream",
          "text": [
            "Train Accuracy: 0.7246729919004722      Train Loss: 1.8267665067927839\n"
          ]
        },
        {
          "name": "stderr",
          "output_type": "stream",
          "text": [
            "Running Evaluation: 100%|██████████| 186/186 [01:28<00:00,  2.11it/s]\n"
          ]
        },
        {
          "name": "stdout",
          "output_type": "stream",
          "text": [
            "Testing accuracy after epoch 1 is 0.6771673387096774\n",
            "epoch number is 2\n"
          ]
        },
        {
          "name": "stderr",
          "output_type": "stream",
          "text": [
            "Current epoch number :   9%|▉         | 250/2714 [05:47<1:16:36,  1.87s/it]"
          ]
        },
        {
          "name": "stdout",
          "output_type": "stream",
          "text": [
            "Saving the model for epoch number 3\n"
          ]
        },
        {
          "name": "stderr",
          "output_type": "stream",
          "text": [
            "Current epoch number :  75%|███████▌  | 2042/2714 [47:05<15:27,  1.38s/it]"
          ]
        }
      ],
      "source": [
        "#training\n",
        "EPOCHS = 3\n",
        "\n",
        "for epoch in range(EPOCHS):\n",
        "    print(\"epoch number is \" + str(epoch))\n",
        "    train_acc, train_loss = train(model, train_data_loader, epoch+1, optimizer1, loss_fn1, 'model_lstm.pth')\n",
        "    print(f\"Train Accuracy: {train_acc}      Train Loss: {train_loss}\")\n",
        "    acc_list, test_acc = eval_model(model, test_data_loader)\n",
        "    print(f\"Testing accuracy after epoch {epoch} is {test_acc}\")"
      ]
    },
    {
      "cell_type": "code",
      "execution_count": null,
      "metadata": {
        "id": "wdOtGo1sd6wj"
      },
      "outputs": [],
      "source": [
        "#testing\n",
        "#testing the model\n",
        "\n",
        "acc_list, test_acc = eval_model(model, test_data_loader)\n",
        "print(f\"Testing Accuracy: {test_acc} \" )"
      ]
    },
    {
      "cell_type": "markdown",
      "metadata": {
        "id": "j4-o1Oq7qUli"
      },
      "source": [
        "###Adding an extra layer"
      ]
    },
    {
      "cell_type": "code",
      "execution_count": null,
      "metadata": {
        "id": "KHBmSdANqW2k"
      },
      "outputs": [],
      "source": [
        "model = QAModel()\n",
        "model = model.to('cuda')\n",
        "if next(model.parameters()).is_cuda:\n",
        "    print(\"Model is on CUDA (GPU).\")\n",
        "else:\n",
        "    print(\"Model is on CPU.\")"
      ]
    },
    {
      "cell_type": "code",
      "execution_count": null,
      "metadata": {
        "id": "PkihMje9qWzR"
      },
      "outputs": [],
      "source": [
        "learning_rate = 2e-5\n",
        "weight_decay = 2e-2\n",
        "gamma = 0.9\n",
        "optimizer1 = torch.optim.AdamW(model.parameters(), lr=learning_rate, weight_decay=weight_decay)\n",
        "loss_fn1 = nn.CrossEntropyLoss()\n",
        "scheduler = ExponentialLR(optimizer1, gamma=gamma)\n",
        "total_accuracy = []\n",
        "total_loss = []"
      ]
    },
    {
      "cell_type": "code",
      "execution_count": null,
      "metadata": {
        "id": "nYakBpAdqWws"
      },
      "outputs": [],
      "source": [
        "#training\n",
        "EPOCHS = 3\n",
        "\n",
        "for epoch in range(EPOCHS):\n",
        "    print(\"epoch number is \" + str(epoch))\n",
        "    train_acc, train_loss = train(model, train_data_loader, epoch+1, optimizer1, loss_fn1, 'model_lstm.pth')\n",
        "    print(f\"Train Accuracy: {train_acc}      Train Loss: {train_loss}\")\n",
        "    acc_list, test_acc = eval_model(model, test_data_loader)\n",
        "    print(f\"Testing accuracy after epoch {epoch} is {test_acc}\")"
      ]
    },
    {
      "cell_type": "markdown",
      "metadata": {
        "id": "8jjUY2eWbCN-"
      },
      "source": [
        "###Running it for a different Optimizer"
      ]
    },
    {
      "cell_type": "code",
      "execution_count": null,
      "metadata": {
        "colab": {
          "base_uri": "https://localhost:8080/"
        },
        "id": "DiEIsW_Tpy32",
        "outputId": "6e3bac23-d349-42f4-a98b-b5a1b079d35b"
      },
      "outputs": [
        {
          "name": "stdout",
          "output_type": "stream",
          "text": [
            "Model is on CUDA (GPU).\n"
          ]
        }
      ],
      "source": [
        "model = QAModel()\n",
        "\n",
        "model = model.to('cuda')\n",
        "\n",
        "\n",
        "if next(model.parameters()).is_cuda:\n",
        "    print(\"Model is on CUDA (GPU).\")\n",
        "else:\n",
        "    print(\"Model is on CPU.\")"
      ]
    },
    {
      "cell_type": "markdown",
      "metadata": {
        "id": "yToWvHF9-wGx"
      },
      "source": [
        "Training of ADAgrad with these hyperparamters were terrible:\n",
        "learning_rate = 2e-5\n",
        "weight_decay = 2e-2\n",
        "gamma = 0.9\n",
        "\n",
        "Trying some new hyperparamters"
      ]
    },
    {
      "cell_type": "code",
      "execution_count": null,
      "metadata": {
        "id": "oU8aJ0VA-t4K"
      },
      "outputs": [],
      "source": [
        "##Hyperparamters\n",
        "learning_rate = 2e-4\n",
        "weight_decay = 2e-2\n",
        "gamma = 0.9"
      ]
    },
    {
      "cell_type": "code",
      "execution_count": null,
      "metadata": {
        "id": "xFMXjF1hbEvt"
      },
      "outputs": [],
      "source": [
        "##Running the code for SOMETHING instead of Adam\n",
        "optimizer2 = torch.optim.Adagrad(model.parameters(), lr=learning_rate, weight_decay= weight_decay)\n",
        "scheduler = ExponentialLR(optimizer2, gamma=gamma)\n",
        "total_accuracy = []\n",
        "total_loss = []\n",
        "loss_fn1 = nn.CrossEntropyLoss()"
      ]
    },
    {
      "cell_type": "code",
      "execution_count": null,
      "metadata": {
        "colab": {
          "base_uri": "https://localhost:8080/"
        },
        "id": "qM5VthPfffiD",
        "outputId": "811e30c5-893e-4cba-c6f4-226d435707b3"
      },
      "outputs": [
        {
          "name": "stdout",
          "output_type": "stream",
          "text": [
            "epoch number is 0\n"
          ]
        },
        {
          "name": "stderr",
          "output_type": "stream",
          "text": [
            "Current epoch number :   9%|▉         | 249/2714 [06:09<1:01:04,  1.49s/it]"
          ]
        },
        {
          "name": "stdout",
          "output_type": "stream",
          "text": [
            "current accuracy : 0.5530625\n",
            "current loss : 3.3280608587265013\n"
          ]
        },
        {
          "name": "stderr",
          "output_type": "stream",
          "text": [
            "\rCurrent epoch number :   9%|▉         | 250/2714 [06:13<1:30:36,  2.21s/it]"
          ]
        },
        {
          "name": "stdout",
          "output_type": "stream",
          "text": [
            "Saving the model for epoch number 1\n"
          ]
        },
        {
          "name": "stderr",
          "output_type": "stream",
          "text": [
            "Current epoch number :  18%|█▊        | 499/2714 [12:22<54:48,  1.48s/it]"
          ]
        },
        {
          "name": "stdout",
          "output_type": "stream",
          "text": [
            "current accuracy : 0.56578125\n",
            "current loss : 3.236658962011337\n"
          ]
        },
        {
          "name": "stderr",
          "output_type": "stream",
          "text": [
            "\rCurrent epoch number :  18%|█▊        | 500/2714 [12:30<2:03:37,  3.35s/it]"
          ]
        },
        {
          "name": "stdout",
          "output_type": "stream",
          "text": [
            "Saving the model for epoch number 1\n"
          ]
        },
        {
          "name": "stderr",
          "output_type": "stream",
          "text": [
            "Current epoch number :  28%|██▊       | 749/2714 [18:39<48:28,  1.48s/it]"
          ]
        },
        {
          "name": "stdout",
          "output_type": "stream",
          "text": [
            "current accuracy : 0.572875\n",
            "current loss : 3.176421950340271\n"
          ]
        },
        {
          "name": "stderr",
          "output_type": "stream",
          "text": [
            "\rCurrent epoch number :  28%|██▊       | 750/2714 [18:46<1:41:03,  3.09s/it]"
          ]
        },
        {
          "name": "stdout",
          "output_type": "stream",
          "text": [
            "Saving the model for epoch number 1\n"
          ]
        },
        {
          "name": "stderr",
          "output_type": "stream",
          "text": [
            "Current epoch number :  37%|███▋      | 999/2714 [24:55<42:13,  1.48s/it]"
          ]
        },
        {
          "name": "stdout",
          "output_type": "stream",
          "text": [
            "current accuracy : 0.576625\n",
            "current loss : 3.1362219077348708\n"
          ]
        },
        {
          "name": "stderr",
          "output_type": "stream",
          "text": [
            "\rCurrent epoch number :  37%|███▋      | 1000/2714 [25:00<1:06:46,  2.34s/it]"
          ]
        },
        {
          "name": "stdout",
          "output_type": "stream",
          "text": [
            "Saving the model for epoch number 1\n"
          ]
        },
        {
          "name": "stderr",
          "output_type": "stream",
          "text": [
            "Current epoch number :  46%|████▌     | 1249/2714 [31:09<36:19,  1.49s/it]"
          ]
        },
        {
          "name": "stdout",
          "output_type": "stream",
          "text": [
            "current accuracy : 0.57935\n",
            "current loss : 3.106396496772766\n"
          ]
        },
        {
          "name": "stderr",
          "output_type": "stream",
          "text": [
            "\rCurrent epoch number :  46%|████▌     | 1250/2714 [31:16<1:16:58,  3.15s/it]"
          ]
        },
        {
          "name": "stdout",
          "output_type": "stream",
          "text": [
            "Saving the model for epoch number 1\n"
          ]
        },
        {
          "name": "stderr",
          "output_type": "stream",
          "text": [
            "Current epoch number :  55%|█████▌    | 1499/2714 [37:25<30:01,  1.48s/it]"
          ]
        },
        {
          "name": "stdout",
          "output_type": "stream",
          "text": [
            "current accuracy : 0.583125\n",
            "current loss : 3.0666163012186685\n"
          ]
        },
        {
          "name": "stderr",
          "output_type": "stream",
          "text": [
            "\rCurrent epoch number :  55%|█████▌    | 1500/2714 [37:32<1:04:16,  3.18s/it]"
          ]
        },
        {
          "name": "stdout",
          "output_type": "stream",
          "text": [
            "Saving the model for epoch number 1\n"
          ]
        },
        {
          "name": "stderr",
          "output_type": "stream",
          "text": [
            "Current epoch number :  64%|██████▍   | 1749/2714 [43:41<23:47,  1.48s/it]"
          ]
        },
        {
          "name": "stdout",
          "output_type": "stream",
          "text": [
            "current accuracy : 0.5855\n",
            "current loss : 3.0386862857001167\n"
          ]
        },
        {
          "name": "stderr",
          "output_type": "stream",
          "text": [
            "\rCurrent epoch number :  64%|██████▍   | 1750/2714 [43:44<31:38,  1.97s/it]"
          ]
        },
        {
          "name": "stdout",
          "output_type": "stream",
          "text": [
            "Saving the model for epoch number 1\n"
          ]
        },
        {
          "name": "stderr",
          "output_type": "stream",
          "text": [
            "Current epoch number :  74%|███████▎  | 1999/2714 [49:53<17:37,  1.48s/it]"
          ]
        },
        {
          "name": "stdout",
          "output_type": "stream",
          "text": [
            "current accuracy : 0.587765625\n",
            "current loss : 3.0193292474150657\n"
          ]
        },
        {
          "name": "stderr",
          "output_type": "stream",
          "text": [
            "\rCurrent epoch number :  74%|███████▎  | 2000/2714 [50:00<36:01,  3.03s/it]"
          ]
        },
        {
          "name": "stdout",
          "output_type": "stream",
          "text": [
            "Saving the model for epoch number 1\n"
          ]
        },
        {
          "name": "stderr",
          "output_type": "stream",
          "text": [
            "Current epoch number :  83%|████████▎ | 2249/2714 [56:09<11:28,  1.48s/it]"
          ]
        },
        {
          "name": "stdout",
          "output_type": "stream",
          "text": [
            "current accuracy : 0.5905208333333334\n",
            "current loss : 2.9950792785220677\n"
          ]
        },
        {
          "name": "stderr",
          "output_type": "stream",
          "text": [
            "\rCurrent epoch number :  83%|████████▎ | 2250/2714 [56:13<18:34,  2.40s/it]"
          ]
        },
        {
          "name": "stdout",
          "output_type": "stream",
          "text": [
            "Saving the model for epoch number 1\n"
          ]
        },
        {
          "name": "stderr",
          "output_type": "stream",
          "text": [
            "Current epoch number :  92%|█████████▏| 2499/2714 [1:02:22<05:18,  1.48s/it]"
          ]
        },
        {
          "name": "stdout",
          "output_type": "stream",
          "text": [
            "current accuracy : 0.59403125\n",
            "current loss : 2.9693413412570955\n"
          ]
        },
        {
          "name": "stderr",
          "output_type": "stream",
          "text": [
            "\rCurrent epoch number :  92%|█████████▏| 2500/2714 [1:02:25<07:17,  2.04s/it]"
          ]
        },
        {
          "name": "stdout",
          "output_type": "stream",
          "text": [
            "Saving the model for epoch number 1\n"
          ]
        },
        {
          "name": "stderr",
          "output_type": "stream",
          "text": [
            "Current epoch number : 100%|██████████| 2714/2714 [1:07:41<00:00,  1.50s/it]\n"
          ]
        },
        {
          "name": "stdout",
          "output_type": "stream",
          "text": [
            "Train Accuracy: 0.5955796333890498      Train Loss: 2.9543759335290884\n",
            "epoch number is 1\n"
          ]
        },
        {
          "name": "stderr",
          "output_type": "stream",
          "text": [
            "Current epoch number : 100%|██████████| 2714/2714 [1:07:00<00:00,  1.48s/it]\n"
          ]
        },
        {
          "name": "stdout",
          "output_type": "stream",
          "text": [
            "Train Accuracy: 0.6318579587368905      Train Loss: 2.603548204846126\n",
            "epoch number is 2\n"
          ]
        },
        {
          "name": "stderr",
          "output_type": "stream",
          "text": [
            "Current epoch number : 100%|██████████| 2714/2714 [1:07:01<00:00,  1.48s/it]\n"
          ]
        },
        {
          "name": "stdout",
          "output_type": "stream",
          "text": [
            "Train Accuracy: 0.640379743923707      Train Loss: 2.515803294095733\n"
          ]
        }
      ],
      "source": [
        "EPOCHS = 3\n",
        "\n",
        "for epoch in range(EPOCHS):\n",
        "    print(\"epoch number is \" + str(epoch))\n",
        "    train_acc, train_loss = train(model, train_data_loader, epoch+1, optimizer2, loss_fn1, 'checkpoint_adagrad.pth',best_acc)\n",
        "    print(f\"Train Accuracy: {train_acc}      Train Loss: {train_loss}\")\n",
        "\n",
        "\n",
        "    #if epoch==2:\n",
        "      #val_acc, val_loss = eval_model(model, test_data_loader)\n",
        "      #print(f\"Testing Accuracy: {val_acc}   Testing Loss: {val_loss}\")\n",
        "    # val_acc = eval_model(model, valid_data_loader)\n",
        "    # print(f\"Validation Accuracy: {val_acc}\")\n"
      ]
    },
    {
      "cell_type": "code",
      "execution_count": null,
      "metadata": {
        "colab": {
          "base_uri": "https://localhost:8080/"
        },
        "id": "ai3xCGepv80h",
        "outputId": "45074f9a-9a8c-4e31-c7fb-afdf7e5612d0"
      },
      "outputs": [
        {
          "name": "stderr",
          "output_type": "stream",
          "text": [
            "Running Evaluation: 100%|██████████| 186/186 [01:35<00:00,  1.94it/s]"
          ]
        },
        {
          "name": "stdout",
          "output_type": "stream",
          "text": [
            "Testing Accuracy: 0.6154233870967742 \n"
          ]
        },
        {
          "name": "stderr",
          "output_type": "stream",
          "text": [
            "\n"
          ]
        }
      ],
      "source": [
        "#testing the model\n",
        "\n",
        "acc_list, test_acc = eval_model(model, test_data_loader)\n",
        "print(f\"Testing Accuracy: {test_acc} \" )"
      ]
    },
    {
      "cell_type": "markdown",
      "metadata": {
        "id": "aD5y3ErVxENS"
      },
      "source": [
        "###Running a new Loss function"
      ]
    },
    {
      "cell_type": "code",
      "execution_count": null,
      "metadata": {
        "colab": {
          "base_uri": "https://localhost:8080/"
        },
        "id": "u0PtmSj4xJKK",
        "outputId": "55fc4904-4992-4688-ef0f-4d9b119efd69"
      },
      "outputs": [
        {
          "name": "stdout",
          "output_type": "stream",
          "text": [
            "Model is on CUDA (GPU).\n"
          ]
        }
      ],
      "source": [
        "model = QAModel()\n",
        "#model.load_state_dict(torch.load('checkpoint.pth'))\n",
        "\n",
        "model = model.to('cuda')\n",
        "\n",
        "\n",
        "if next(model.parameters()).is_cuda:\n",
        "    print(\"Model is on CUDA (GPU).\")\n",
        "else:\n",
        "    print(\"Model is on CPU.\")"
      ]
    },
    {
      "cell_type": "code",
      "execution_count": null,
      "metadata": {
        "id": "lDLuwCW-Hx6n"
      },
      "outputs": [],
      "source": [
        "class FocalLoss(nn.Module):\n",
        "    def __init__(self, alpha=1, gamma=2, reduction='mean'):\n",
        "        super(FocalLoss, self).__init__()\n",
        "        self.alpha = alpha\n",
        "        self.gamma = gamma\n",
        "        self.reduction = reduction\n",
        "\n",
        "    def forward(self, logits, targets):\n",
        "        ce_loss = F.cross_entropy(logits, targets, reduction='none')\n",
        "        pt = torch.exp(-ce_loss)\n",
        "        focal_loss = self.alpha * (1 - pt) ** self.gamma * ce_loss\n",
        "\n",
        "        if self.reduction == 'mean':\n",
        "            return focal_loss.mean()\n",
        "        elif self.reduction == 'sum':\n",
        "            return focal_loss.sum()\n",
        "        else:\n",
        "            return focal_loss\n"
      ]
    },
    {
      "cell_type": "code",
      "execution_count": null,
      "metadata": {
        "id": "tbZRP1jAv-sj"
      },
      "outputs": [],
      "source": [
        "learning_rate = 2e-5\n",
        "weight_decay = 2e-2\n",
        "gamma = 0.9\n",
        "optimizer1 = torch.optim.AdamW(model.parameters(), lr=learning_rate, weight_decay=weight_decay)\n",
        "#loss_fn2 = torch.nn.HuberLoss(reduction='none')\n",
        "loss_fn2= FocalLoss(alpha=1, gamma=2, reduction='mean')\n",
        "scheduler = ExponentialLR(optimizer1, gamma=gamma)\n",
        "total_accuracy = []\n",
        "total_loss = []\n"
      ]
    },
    {
      "cell_type": "code",
      "execution_count": null,
      "metadata": {
        "colab": {
          "base_uri": "https://localhost:8080/"
        },
        "id": "IgNdFsUxySdP",
        "outputId": "62ab1c6f-6f5a-40a5-a7ff-08fbdc3e3f1e"
      },
      "outputs": [
        {
          "name": "stdout",
          "output_type": "stream",
          "text": [
            "epoch number is 0\n"
          ]
        },
        {
          "name": "stderr",
          "output_type": "stream",
          "text": [
            "Current epoch number :   9%|▉         | 249/2714 [05:53<59:20,  1.44s/it]"
          ]
        },
        {
          "name": "stdout",
          "output_type": "stream",
          "text": [
            "current accuracy : 0.3053125\n",
            "current loss : 5.263810178756714\n"
          ]
        },
        {
          "name": "stderr",
          "output_type": "stream",
          "text": [
            "\rCurrent epoch number :   9%|▉         | 250/2714 [05:57<1:22:03,  2.00s/it]"
          ]
        },
        {
          "name": "stdout",
          "output_type": "stream",
          "text": [
            "Saving the model for epoch number 1\n"
          ]
        },
        {
          "name": "stderr",
          "output_type": "stream",
          "text": [
            "Current epoch number :  18%|█▊        | 499/2714 [11:56<53:25,  1.45s/it]"
          ]
        },
        {
          "name": "stdout",
          "output_type": "stream",
          "text": [
            "current accuracy : 0.4175625\n",
            "current loss : 4.0262758972644805\n"
          ]
        },
        {
          "name": "stderr",
          "output_type": "stream",
          "text": [
            "\rCurrent epoch number :  18%|█▊        | 500/2714 [11:59<1:12:00,  1.95s/it]"
          ]
        },
        {
          "name": "stdout",
          "output_type": "stream",
          "text": [
            "Saving the model for epoch number 1\n"
          ]
        },
        {
          "name": "stderr",
          "output_type": "stream",
          "text": [
            "Current epoch number :  28%|██▊       | 749/2714 [17:58<47:21,  1.45s/it]"
          ]
        },
        {
          "name": "stdout",
          "output_type": "stream",
          "text": [
            "current accuracy : 0.470375\n",
            "current loss : 3.4850169452031454\n"
          ]
        },
        {
          "name": "stderr",
          "output_type": "stream",
          "text": [
            "\rCurrent epoch number :  28%|██▊       | 750/2714 [18:02<1:04:15,  1.96s/it]"
          ]
        },
        {
          "name": "stdout",
          "output_type": "stream",
          "text": [
            "Saving the model for epoch number 1\n"
          ]
        },
        {
          "name": "stderr",
          "output_type": "stream",
          "text": [
            "Current epoch number :  37%|███▋      | 999/2714 [24:00<41:06,  1.44s/it]"
          ]
        },
        {
          "name": "stdout",
          "output_type": "stream",
          "text": [
            "current accuracy : 0.502984375\n",
            "current loss : 3.144135613143444\n"
          ]
        },
        {
          "name": "stderr",
          "output_type": "stream",
          "text": [
            "\rCurrent epoch number :  37%|███▋      | 1000/2714 [24:04<57:03,  2.00s/it]"
          ]
        },
        {
          "name": "stdout",
          "output_type": "stream",
          "text": [
            "Saving the model for epoch number 1\n"
          ]
        },
        {
          "name": "stderr",
          "output_type": "stream",
          "text": [
            "Current epoch number :  46%|████▌     | 1249/2714 [30:02<35:14,  1.44s/it]"
          ]
        },
        {
          "name": "stdout",
          "output_type": "stream",
          "text": [
            "current accuracy : 0.5267375\n",
            "current loss : 2.9092146228313447\n"
          ]
        },
        {
          "name": "stderr",
          "output_type": "stream",
          "text": [
            "\rCurrent epoch number :  46%|████▌     | 1250/2714 [30:09<1:14:51,  3.07s/it]"
          ]
        },
        {
          "name": "stdout",
          "output_type": "stream",
          "text": [
            "Saving the model for epoch number 1\n"
          ]
        },
        {
          "name": "stderr",
          "output_type": "stream",
          "text": [
            "Current epoch number :  55%|█████▌    | 1499/2714 [36:09<29:15,  1.44s/it]"
          ]
        },
        {
          "name": "stdout",
          "output_type": "stream",
          "text": [
            "current accuracy : 0.5425\n",
            "current loss : 2.7489126905202865\n"
          ]
        },
        {
          "name": "stderr",
          "output_type": "stream",
          "text": [
            "\rCurrent epoch number :  55%|█████▌    | 1500/2714 [36:12<40:02,  1.98s/it]"
          ]
        },
        {
          "name": "stdout",
          "output_type": "stream",
          "text": [
            "Saving the model for epoch number 1\n"
          ]
        },
        {
          "name": "stderr",
          "output_type": "stream",
          "text": [
            "Current epoch number :  64%|██████▍   | 1749/2714 [42:11<23:14,  1.45s/it]"
          ]
        },
        {
          "name": "stdout",
          "output_type": "stream",
          "text": [
            "current accuracy : 0.5550803571428572\n",
            "current loss : 2.625913234915052\n"
          ]
        },
        {
          "name": "stderr",
          "output_type": "stream",
          "text": [
            "\rCurrent epoch number :  64%|██████▍   | 1750/2714 [42:14<31:48,  1.98s/it]"
          ]
        },
        {
          "name": "stdout",
          "output_type": "stream",
          "text": [
            "Saving the model for epoch number 1\n"
          ]
        },
        {
          "name": "stderr",
          "output_type": "stream",
          "text": [
            "Current epoch number :  74%|███████▎  | 1999/2714 [48:13<17:11,  1.44s/it]"
          ]
        },
        {
          "name": "stdout",
          "output_type": "stream",
          "text": [
            "current accuracy : 0.5646328125\n",
            "current loss : 2.5274105157256126\n"
          ]
        },
        {
          "name": "stderr",
          "output_type": "stream",
          "text": [
            "\rCurrent epoch number :  74%|███████▎  | 2000/2714 [48:16<23:28,  1.97s/it]"
          ]
        },
        {
          "name": "stdout",
          "output_type": "stream",
          "text": [
            "Saving the model for epoch number 1\n"
          ]
        },
        {
          "name": "stderr",
          "output_type": "stream",
          "text": [
            "Current epoch number :  83%|████████▎ | 2249/2714 [54:16<11:12,  1.45s/it]"
          ]
        },
        {
          "name": "stdout",
          "output_type": "stream",
          "text": [
            "current accuracy : 0.5739236111111111\n",
            "current loss : 2.4399875095420414\n"
          ]
        },
        {
          "name": "stderr",
          "output_type": "stream",
          "text": [
            "\rCurrent epoch number :  83%|████████▎ | 2250/2714 [54:21<19:54,  2.57s/it]"
          ]
        },
        {
          "name": "stdout",
          "output_type": "stream",
          "text": [
            "Saving the model for epoch number 1\n"
          ]
        },
        {
          "name": "stderr",
          "output_type": "stream",
          "text": [
            "Current epoch number :  92%|█████████▏| 2499/2714 [1:00:20<05:10,  1.44s/it]"
          ]
        },
        {
          "name": "stdout",
          "output_type": "stream",
          "text": [
            "current accuracy : 0.581975\n",
            "current loss : 2.369912795209885\n"
          ]
        },
        {
          "name": "stderr",
          "output_type": "stream",
          "text": [
            "\rCurrent epoch number :  92%|█████████▏| 2500/2714 [1:00:23<06:52,  1.93s/it]"
          ]
        },
        {
          "name": "stdout",
          "output_type": "stream",
          "text": [
            "Saving the model for epoch number 1\n"
          ]
        },
        {
          "name": "stderr",
          "output_type": "stream",
          "text": [
            "Current epoch number : 100%|██████████| 2714/2714 [1:05:31<00:00,  1.45s/it]\n"
          ]
        },
        {
          "name": "stdout",
          "output_type": "stream",
          "text": [
            "Train Accuracy: 0.5872812269745544      Train Loss: 2.313215385114962\n",
            "epoch number is 1\n"
          ]
        },
        {
          "name": "stderr",
          "output_type": "stream",
          "text": [
            "Current epoch number :   9%|▉         | 250/2714 [06:02<1:18:24,  1.91s/it]"
          ]
        },
        {
          "name": "stdout",
          "output_type": "stream",
          "text": [
            "Saving the model for epoch number 2\n"
          ]
        },
        {
          "name": "stderr",
          "output_type": "stream",
          "text": [
            "Current epoch number :  18%|█▊        | 500/2714 [12:04<1:10:35,  1.91s/it]"
          ]
        },
        {
          "name": "stdout",
          "output_type": "stream",
          "text": [
            "Saving the model for epoch number 2\n"
          ]
        },
        {
          "name": "stderr",
          "output_type": "stream",
          "text": [
            "Current epoch number :  28%|██▊       | 750/2714 [18:10<1:48:29,  3.31s/it]"
          ]
        },
        {
          "name": "stdout",
          "output_type": "stream",
          "text": [
            "Saving the model for epoch number 2\n"
          ]
        },
        {
          "name": "stderr",
          "output_type": "stream",
          "text": [
            "Current epoch number :  37%|███▋      | 1000/2714 [24:13<57:12,  2.00s/it]"
          ]
        },
        {
          "name": "stdout",
          "output_type": "stream",
          "text": [
            "Saving the model for epoch number 2\n"
          ]
        },
        {
          "name": "stderr",
          "output_type": "stream",
          "text": [
            "Current epoch number :  74%|███████▎  | 2000/2714 [48:17<22:49,  1.92s/it]"
          ]
        },
        {
          "name": "stdout",
          "output_type": "stream",
          "text": [
            "Saving the model for epoch number 2\n"
          ]
        },
        {
          "name": "stderr",
          "output_type": "stream",
          "text": [
            "Current epoch number :  83%|████████▎ | 2250/2714 [54:19<15:10,  1.96s/it]"
          ]
        },
        {
          "name": "stdout",
          "output_type": "stream",
          "text": [
            "Saving the model for epoch number 2\n"
          ]
        },
        {
          "name": "stderr",
          "output_type": "stream",
          "text": [
            "Current epoch number :  92%|█████████▏| 2500/2714 [1:00:26<11:04,  3.11s/it]"
          ]
        },
        {
          "name": "stdout",
          "output_type": "stream",
          "text": [
            "Saving the model for epoch number 2\n"
          ]
        },
        {
          "name": "stderr",
          "output_type": "stream",
          "text": [
            "Current epoch number : 100%|██████████| 2714/2714 [1:05:33<00:00,  1.45s/it]\n"
          ]
        },
        {
          "name": "stdout",
          "output_type": "stream",
          "text": [
            "Train Accuracy: 0.712999723659514      Train Loss: 1.2173944167908097\n",
            "epoch number is 2\n"
          ]
        },
        {
          "name": "stderr",
          "output_type": "stream",
          "text": [
            "Current epoch number :   9%|▉         | 250/2714 [06:02<1:18:47,  1.92s/it]"
          ]
        },
        {
          "name": "stdout",
          "output_type": "stream",
          "text": [
            "Saving the model for epoch number 3\n"
          ]
        },
        {
          "name": "stderr",
          "output_type": "stream",
          "text": [
            "Current epoch number : 100%|██████████| 2714/2714 [1:05:13<00:00,  1.44s/it]"
          ]
        },
        {
          "name": "stdout",
          "output_type": "stream",
          "text": [
            "Train Accuracy: 0.7661039977936334      Train Loss: 0.82389690904887\n"
          ]
        },
        {
          "name": "stderr",
          "output_type": "stream",
          "text": [
            "\n"
          ]
        }
      ],
      "source": [
        "EPOCHS = 3\n",
        "\n",
        "for epoch in range(EPOCHS):\n",
        "    print(\"epoch number is \" + str(epoch))\n",
        "    train_acc, train_loss = train(model, train_data_loader, epoch+1, optimizer1, loss_fn2, 'checkpoint_focal_loss.pth')\n",
        "    print(f\"Train Accuracy: {train_acc}      Train Loss: {train_loss}\")\n"
      ]
    },
    {
      "cell_type": "code",
      "execution_count": null,
      "metadata": {
        "colab": {
          "base_uri": "https://localhost:8080/"
        },
        "id": "yG6TjUtFyfGn",
        "outputId": "434dcd8a-a6b9-4cde-8988-917bf923a91e"
      },
      "outputs": [
        {
          "name": "stderr",
          "output_type": "stream",
          "text": [
            "Running Evaluation: 100%|██████████| 186/186 [01:32<00:00,  2.02it/s]"
          ]
        },
        {
          "name": "stdout",
          "output_type": "stream",
          "text": [
            "Testing Accuracy: 0.671875 \n"
          ]
        },
        {
          "name": "stderr",
          "output_type": "stream",
          "text": [
            "\n"
          ]
        }
      ],
      "source": [
        "+#testing the model\n",
        "\n",
        "acc_list, test_acc = eval_model(model, test_data_loader)\n",
        "print(f\"Testing Accuracy: {test_acc} \" )"
      ]
    },
    {
      "cell_type": "markdown",
      "metadata": {
        "id": "0utuWyj_yDMl"
      },
      "source": [
        "###Freezing certain layers and training"
      ]
    },
    {
      "cell_type": "code",
      "execution_count": null,
      "metadata": {
        "colab": {
          "base_uri": "https://localhost:8080/"
        },
        "id": "S0IFkhPqzBEE",
        "outputId": "8d0c8694-234a-4290-a6fb-901af10fb40f"
      },
      "outputs": [
        {
          "name": "stdout",
          "output_type": "stream",
          "text": [
            "Model is on CUDA (GPU).\n"
          ]
        }
      ],
      "source": [
        "#Freezing certain layers of the model\n",
        "\n",
        "model = QAModel()\n",
        "\n",
        "model = model.to('cuda')\n",
        "\n",
        "\n",
        "if next(model.parameters()).is_cuda:\n",
        "    print(\"Model is on CUDA (GPU).\")\n",
        "else:\n",
        "    print(\"Model is on CPU.\")"
      ]
    },
    {
      "cell_type": "code",
      "execution_count": null,
      "metadata": {
        "id": "pnq0eWyw0b8N"
      },
      "outputs": [],
      "source": [
        "learning_rate = 2e-5\n",
        "weight_decay = 2e-2\n",
        "gamma = 0.9\n",
        "optimizer1 = torch.optim.AdamW(model.parameters(), lr=learning_rate, weight_decay=weight_decay)\n",
        "loss_fn1 = nn.CrossEntropyLoss()\n",
        "scheduler = ExponentialLR(optimizer1, gamma=gamma)\n",
        "total_accuracy = []\n",
        "total_loss = []\n"
      ]
    },
    {
      "cell_type": "code",
      "execution_count": null,
      "metadata": {
        "colab": {
          "base_uri": "https://localhost:8080/"
        },
        "id": "P4MynDn80feS",
        "outputId": "5e8e735f-3671-4b2c-9eae-31b1ac7bafdb"
      },
      "outputs": [
        {
          "name": "stdout",
          "output_type": "stream",
          "text": [
            "epoch number is 0\n"
          ]
        },
        {
          "name": "stderr",
          "output_type": "stream",
          "text": [
            "Current epoch number :   9%|▉         | 249/2714 [04:51<48:19,  1.18s/it]"
          ]
        },
        {
          "name": "stdout",
          "output_type": "stream",
          "text": [
            "current accuracy : 0.233375\n",
            "current loss : 6.646155422210693\n"
          ]
        },
        {
          "name": "stderr",
          "output_type": "stream",
          "text": [
            "\rCurrent epoch number :   9%|▉         | 250/2714 [05:11<4:37:09,  6.75s/it]"
          ]
        },
        {
          "name": "stdout",
          "output_type": "stream",
          "text": [
            "Saving the model for epoch number 1\n"
          ]
        },
        {
          "name": "stderr",
          "output_type": "stream",
          "text": [
            "Current epoch number :  18%|█▊        | 499/2714 [10:05<43:27,  1.18s/it]"
          ]
        },
        {
          "name": "stdout",
          "output_type": "stream",
          "text": [
            "current accuracy : 0.36128125\n",
            "current loss : 5.246830662727356\n"
          ]
        },
        {
          "name": "stderr",
          "output_type": "stream",
          "text": [
            "\rCurrent epoch number :  18%|█▊        | 500/2714 [10:09<1:07:16,  1.82s/it]"
          ]
        },
        {
          "name": "stdout",
          "output_type": "stream",
          "text": [
            "Saving the model for epoch number 1\n"
          ]
        },
        {
          "name": "stderr",
          "output_type": "stream",
          "text": [
            "Current epoch number :  28%|██▊       | 749/2714 [15:03<38:41,  1.18s/it]"
          ]
        },
        {
          "name": "stdout",
          "output_type": "stream",
          "text": [
            "current accuracy : 0.4215\n",
            "current loss : 4.639446418444315\n"
          ]
        },
        {
          "name": "stderr",
          "output_type": "stream",
          "text": [
            "\rCurrent epoch number :  28%|██▊       | 750/2714 [15:06<55:18,  1.69s/it]"
          ]
        },
        {
          "name": "stdout",
          "output_type": "stream",
          "text": [
            "Saving the model for epoch number 1\n"
          ]
        },
        {
          "name": "stderr",
          "output_type": "stream",
          "text": [
            "Current epoch number :  37%|███▋      | 999/2714 [20:00<33:40,  1.18s/it]"
          ]
        },
        {
          "name": "stdout",
          "output_type": "stream",
          "text": [
            "current accuracy : 0.458890625\n",
            "current loss : 4.266988564968109\n"
          ]
        },
        {
          "name": "stderr",
          "output_type": "stream",
          "text": [
            "\rCurrent epoch number :  37%|███▋      | 1000/2714 [20:02<47:13,  1.65s/it]"
          ]
        },
        {
          "name": "stdout",
          "output_type": "stream",
          "text": [
            "Saving the model for epoch number 1\n"
          ]
        },
        {
          "name": "stderr",
          "output_type": "stream",
          "text": [
            "Current epoch number :  46%|████▌     | 1249/2714 [24:56<28:53,  1.18s/it]"
          ]
        },
        {
          "name": "stdout",
          "output_type": "stream",
          "text": [
            "current accuracy : 0.4844625\n",
            "current loss : 4.014285761928559\n"
          ]
        },
        {
          "name": "stderr",
          "output_type": "stream",
          "text": [
            "\rCurrent epoch number :  46%|████▌     | 1250/2714 [24:59<41:52,  1.72s/it]"
          ]
        },
        {
          "name": "stdout",
          "output_type": "stream",
          "text": [
            "Saving the model for epoch number 1\n"
          ]
        },
        {
          "name": "stderr",
          "output_type": "stream",
          "text": [
            "Current epoch number :  55%|█████▌    | 1499/2714 [29:53<23:52,  1.18s/it]"
          ]
        },
        {
          "name": "stdout",
          "output_type": "stream",
          "text": [
            "current accuracy : 0.5032604166666667\n",
            "current loss : 3.8364233899911246\n"
          ]
        },
        {
          "name": "stderr",
          "output_type": "stream",
          "text": [
            "\rCurrent epoch number :  55%|█████▌    | 1500/2714 [29:56<33:44,  1.67s/it]"
          ]
        },
        {
          "name": "stdout",
          "output_type": "stream",
          "text": [
            "Saving the model for epoch number 1\n"
          ]
        },
        {
          "name": "stderr",
          "output_type": "stream",
          "text": [
            "Current epoch number :  64%|██████▍   | 1749/2714 [34:50<19:03,  1.18s/it]"
          ]
        },
        {
          "name": "stdout",
          "output_type": "stream",
          "text": [
            "current accuracy : 0.5164196428571428\n",
            "current loss : 3.70632806287493\n"
          ]
        },
        {
          "name": "stderr",
          "output_type": "stream",
          "text": [
            "\rCurrent epoch number :  64%|██████▍   | 1750/2714 [34:56<39:51,  2.48s/it]"
          ]
        },
        {
          "name": "stdout",
          "output_type": "stream",
          "text": [
            "Saving the model for epoch number 1\n"
          ]
        },
        {
          "name": "stderr",
          "output_type": "stream",
          "text": [
            "Current epoch number :  74%|███████▎  | 1999/2714 [39:50<14:04,  1.18s/it]"
          ]
        },
        {
          "name": "stdout",
          "output_type": "stream",
          "text": [
            "current accuracy : 0.5282734375\n",
            "current loss : 3.590987466216087\n"
          ]
        },
        {
          "name": "stderr",
          "output_type": "stream",
          "text": [
            "\rCurrent epoch number :  74%|███████▎  | 2000/2714 [39:58<39:47,  3.34s/it]"
          ]
        },
        {
          "name": "stdout",
          "output_type": "stream",
          "text": [
            "Saving the model for epoch number 1\n"
          ]
        },
        {
          "name": "stderr",
          "output_type": "stream",
          "text": [
            "Current epoch number :  83%|████████▎ | 2249/2714 [44:52<09:08,  1.18s/it]"
          ]
        },
        {
          "name": "stdout",
          "output_type": "stream",
          "text": [
            "current accuracy : 0.5386527777777778\n",
            "current loss : 3.49022030433019\n"
          ]
        },
        {
          "name": "stderr",
          "output_type": "stream",
          "text": [
            "\rCurrent epoch number :  83%|████████▎ | 2250/2714 [44:55<13:09,  1.70s/it]"
          ]
        },
        {
          "name": "stdout",
          "output_type": "stream",
          "text": [
            "Saving the model for epoch number 1\n"
          ]
        },
        {
          "name": "stderr",
          "output_type": "stream",
          "text": [
            "Current epoch number :  92%|█████████▏| 2499/2714 [49:49<04:14,  1.18s/it]"
          ]
        },
        {
          "name": "stdout",
          "output_type": "stream",
          "text": [
            "current accuracy : 0.54734375\n",
            "current loss : 3.4097514408111573\n"
          ]
        },
        {
          "name": "stderr",
          "output_type": "stream",
          "text": [
            "\rCurrent epoch number :  92%|█████████▏| 2500/2714 [49:52<06:23,  1.79s/it]"
          ]
        },
        {
          "name": "stdout",
          "output_type": "stream",
          "text": [
            "Saving the model for epoch number 1\n"
          ]
        },
        {
          "name": "stderr",
          "output_type": "stream",
          "text": [
            "Current epoch number : 100%|██████████| 2714/2714 [54:04<00:00,  1.20s/it]\n"
          ]
        },
        {
          "name": "stdout",
          "output_type": "stream",
          "text": [
            "Train Accuracy: 0.554444546800988      Train Loss: 3.345319399345246\n",
            "epoch number is 1\n"
          ]
        },
        {
          "name": "stderr",
          "output_type": "stream",
          "text": [
            "Current epoch number :   9%|▉         | 250/2714 [04:56<1:09:11,  1.69s/it]"
          ]
        },
        {
          "name": "stdout",
          "output_type": "stream",
          "text": [
            "Saving the model for epoch number 2\n"
          ]
        },
        {
          "name": "stderr",
          "output_type": "stream",
          "text": [
            "Current epoch number :  28%|██▊       | 750/2714 [14:51<1:28:36,  2.71s/it]"
          ]
        },
        {
          "name": "stdout",
          "output_type": "stream",
          "text": [
            "Saving the model for epoch number 2\n"
          ]
        },
        {
          "name": "stderr",
          "output_type": "stream",
          "text": [
            "Current epoch number :  55%|█████▌    | 1500/2714 [29:46<1:26:00,  4.25s/it]"
          ]
        },
        {
          "name": "stdout",
          "output_type": "stream",
          "text": [
            "Saving the model for epoch number 2\n"
          ]
        },
        {
          "name": "stderr",
          "output_type": "stream",
          "text": [
            "Current epoch number :  83%|████████▎ | 2250/2714 [44:35<13:44,  1.78s/it]"
          ]
        },
        {
          "name": "stdout",
          "output_type": "stream",
          "text": [
            "Saving the model for epoch number 2\n"
          ]
        },
        {
          "name": "stderr",
          "output_type": "stream",
          "text": [
            "Current epoch number :  92%|█████████▏| 2500/2714 [49:36<10:21,  2.91s/it]"
          ]
        },
        {
          "name": "stdout",
          "output_type": "stream",
          "text": [
            "Saving the model for epoch number 2\n"
          ]
        },
        {
          "name": "stderr",
          "output_type": "stream",
          "text": [
            "Current epoch number : 100%|██████████| 2714/2714 [53:48<00:00,  1.19s/it]\n"
          ]
        },
        {
          "name": "stdout",
          "output_type": "stream",
          "text": [
            "Train Accuracy: 0.6795504790021816      Train Loss: 2.1880866339431586\n",
            "epoch number is 2\n"
          ]
        },
        {
          "name": "stderr",
          "output_type": "stream",
          "text": [
            "Current epoch number :   9%|▉         | 250/2714 [05:01<1:59:13,  2.90s/it]"
          ]
        },
        {
          "name": "stdout",
          "output_type": "stream",
          "text": [
            "Saving the model for epoch number 3\n"
          ]
        },
        {
          "name": "stderr",
          "output_type": "stream",
          "text": [
            "Current epoch number : 100%|██████████| 2714/2714 [53:28<00:00,  1.18s/it]"
          ]
        },
        {
          "name": "stdout",
          "output_type": "stream",
          "text": [
            "Train Accuracy: 0.7289954863691822      Train Loss: 1.7682625742501517\n"
          ]
        },
        {
          "name": "stderr",
          "output_type": "stream",
          "text": [
            "\n"
          ]
        }
      ],
      "source": [
        "EPOCHS = 3\n",
        "\n",
        "for epoch in range(EPOCHS):\n",
        "    print(\"epoch number is \" + str(epoch))\n",
        "    train_acc, train_loss = train(model, train_data_loader, epoch+1, optimizer1, loss_fn1, 'checkpoint_freeze.pth')\n",
        "    print(f\"Train Accuracy: {train_acc}      Train Loss: {train_loss}\")\n"
      ]
    },
    {
      "cell_type": "code",
      "execution_count": null,
      "metadata": {
        "colab": {
          "base_uri": "https://localhost:8080/"
        },
        "id": "gDykYjoXrUjQ",
        "outputId": "068ad6b1-ae47-4d09-a209-259ee3b8b171"
      },
      "outputs": [
        {
          "name": "stderr",
          "output_type": "stream",
          "text": [
            "Running Evaluation: 100%|██████████| 186/186 [01:26<00:00,  2.15it/s]"
          ]
        },
        {
          "name": "stdout",
          "output_type": "stream",
          "text": [
            "Testing Accuracy: 0.6633904569892473 \n"
          ]
        },
        {
          "name": "stderr",
          "output_type": "stream",
          "text": [
            "\n"
          ]
        }
      ],
      "source": [
        "#testing the model\n",
        "\n",
        "acc_list, test_acc = eval_model(model, test_data_loader)\n",
        "print(f\"Testing Accuracy: {test_acc} \" )"
      ]
    },
    {
      "cell_type": "code",
      "execution_count": null,
      "metadata": {
        "colab": {
          "base_uri": "https://localhost:8080/",
          "height": 472
        },
        "id": "O7IsTKuIgUa3",
        "outputId": "6e431df8-a333-4e56-b018-bc7f3fb29263"
      },
      "outputs": [
        {
          "data": {
            "image/png": "[encoded data removed]",
            "text/plain": [
              "<Figure size 640x480 with 1 Axes>"
            ]
          },
          "metadata": {},
          "output_type": "display_data"
        }
      ],
      "source": [
        "# plot Accuracy\n",
        "plt.plot(total_accuracy, color='blue')\n",
        "plt.ylabel('Accuracy')\n",
        "plt.xlabel('Runs->')\n",
        "plt.title(\"Total Train Accuracy over time\");"
      ]
    },
    {
      "cell_type": "code",
      "execution_count": null,
      "metadata": {
        "colab": {
          "base_uri": "https://localhost:8080/",
          "height": 472
        },
        "id": "t8N3-4oRG3q5",
        "outputId": "b2b11bc3-dc16-4ab5-a610-c1c23a23efaf"
      },
      "outputs": [
        {
          "data": {
            "image/png": "[encoded data removed]",
            "text/plain": [
              "<Figure size 640x480 with 1 Axes>"
            ]
          },
          "metadata": {},
          "output_type": "display_data"
        }
      ],
      "source": [
        "\n",
        "# plot Loss\n",
        "plt.plot(total_loss, color='red')\n",
        "plt.ylabel('Loss')\n",
        "plt.xlabel('Runs->')\n",
        "plt.title(\"Total Train Loss over time\");"
      ]
    },
    {
      "cell_type": "markdown",
      "metadata": {
        "id": "KBXr3Bmqywoc"
      },
      "source": [
        "###Changing the Learning Rate"
      ]
    },
    {
      "cell_type": "code",
      "execution_count": null,
      "metadata": {
        "colab": {
          "base_uri": "https://localhost:8080/"
        },
        "id": "cu9Dxu5yNzpe",
        "outputId": "3448faa0-56c4-4a13-de40-f84499500c7a"
      },
      "outputs": [
        {
          "name": "stdout",
          "output_type": "stream",
          "text": [
            "Model is on CUDA (GPU).\n"
          ]
        }
      ],
      "source": [
        "#Incresing the learning rate\n",
        "\n",
        "model = QAModel()\n",
        "\n",
        "model = model.to('cuda')\n",
        "\n",
        "\n",
        "if next(model.parameters()).is_cuda:\n",
        "    print(\"Model is on CUDA (GPU).\")\n",
        "else:\n",
        "    print(\"Model is on CPU.\")"
      ]
    },
    {
      "cell_type": "code",
      "execution_count": null,
      "metadata": {
        "id": "R5iV53Z3G4EN"
      },
      "outputs": [],
      "source": [
        "learning_rate = 2e-4\n",
        "weight_decay = 2e-2\n",
        "gamma = 0.9\n",
        "optimizer1 = torch.optim.AdamW(model.parameters(), lr=learning_rate, weight_decay=weight_decay)\n",
        "loss_fn1 = nn.CrossEntropyLoss()\n",
        "scheduler = ExponentialLR(optimizer1, gamma=gamma)\n",
        "total_accuracy = []\n",
        "total_loss = []"
      ]
    },
    {
      "cell_type": "code",
      "execution_count": null,
      "metadata": {
        "colab": {
          "base_uri": "https://localhost:8080/"
        },
        "id": "04JcrMIoN7gR",
        "outputId": "894191be-50ce-4b31-abbb-41b3f55fe8d5"
      },
      "outputs": [
        {
          "name": "stdout",
          "output_type": "stream",
          "text": [
            "epoch number is 0\n"
          ]
        },
        {
          "name": "stderr",
          "output_type": "stream",
          "text": [
            "Current epoch number :   9%|▉         | 249/2714 [05:44<57:42,  1.40s/it]"
          ]
        },
        {
          "name": "stdout",
          "output_type": "stream",
          "text": [
            "current accuracy : 0.442375\n",
            "current loss : 4.44983385848999\n"
          ]
        },
        {
          "name": "stderr",
          "output_type": "stream",
          "text": [
            "\rCurrent epoch number :   9%|▉         | 250/2714 [05:47<1:16:04,  1.85s/it]"
          ]
        },
        {
          "name": "stdout",
          "output_type": "stream",
          "text": [
            "Saving the model for epoch number 1\n"
          ]
        },
        {
          "name": "stderr",
          "output_type": "stream",
          "text": [
            "Current epoch number :  18%|█▊        | 499/2714 [11:38<52:02,  1.41s/it]"
          ]
        },
        {
          "name": "stdout",
          "output_type": "stream",
          "text": [
            "current accuracy : 0.490875\n",
            "current loss : 3.9724703669548034\n"
          ]
        },
        {
          "name": "stderr",
          "output_type": "stream",
          "text": [
            "\rCurrent epoch number :  18%|█▊        | 500/2714 [11:41<1:10:22,  1.91s/it]"
          ]
        },
        {
          "name": "stdout",
          "output_type": "stream",
          "text": [
            "Saving the model for epoch number 1\n"
          ]
        },
        {
          "name": "stderr",
          "output_type": "stream",
          "text": [
            "Current epoch number :  28%|██▊       | 749/2714 [17:31<45:54,  1.40s/it]"
          ]
        },
        {
          "name": "stdout",
          "output_type": "stream",
          "text": [
            "current accuracy : 0.5111875\n",
            "current loss : 3.7699453376134238\n"
          ]
        },
        {
          "name": "stderr",
          "output_type": "stream",
          "text": [
            "\rCurrent epoch number :  28%|██▊       | 750/2714 [17:35<1:04:40,  1.98s/it]"
          ]
        },
        {
          "name": "stdout",
          "output_type": "stream",
          "text": [
            "Saving the model for epoch number 1\n"
          ]
        },
        {
          "name": "stderr",
          "output_type": "stream",
          "text": [
            "Current epoch number :  37%|███▋      | 999/2714 [23:26<40:16,  1.41s/it]"
          ]
        },
        {
          "name": "stdout",
          "output_type": "stream",
          "text": [
            "current accuracy : 0.52415625\n",
            "current loss : 3.6433178595304487\n"
          ]
        },
        {
          "name": "stderr",
          "output_type": "stream",
          "text": [
            "\rCurrent epoch number :  37%|███▋      | 1000/2714 [23:29<53:44,  1.88s/it]"
          ]
        },
        {
          "name": "stdout",
          "output_type": "stream",
          "text": [
            "Saving the model for epoch number 1\n"
          ]
        },
        {
          "name": "stderr",
          "output_type": "stream",
          "text": [
            "Current epoch number :  46%|████▌     | 1249/2714 [29:19<34:19,  1.41s/it]"
          ]
        },
        {
          "name": "stdout",
          "output_type": "stream",
          "text": [
            "current accuracy : 0.5339125\n",
            "current loss : 3.54919780960083\n"
          ]
        },
        {
          "name": "stderr",
          "output_type": "stream",
          "text": [
            "\rCurrent epoch number :  46%|████▌     | 1250/2714 [29:22<45:49,  1.88s/it]"
          ]
        },
        {
          "name": "stdout",
          "output_type": "stream",
          "text": [
            "Saving the model for epoch number 1\n"
          ]
        },
        {
          "name": "stderr",
          "output_type": "stream",
          "text": [
            "Current epoch number :  55%|█████▌    | 1499/2714 [35:12<28:25,  1.40s/it]"
          ]
        },
        {
          "name": "stdout",
          "output_type": "stream",
          "text": [
            "current accuracy : 0.5393541666666667\n",
            "current loss : 3.490472027460734\n"
          ]
        },
        {
          "name": "stderr",
          "output_type": "stream",
          "text": [
            "\rCurrent epoch number :  55%|█████▌    | 1500/2714 [35:15<37:48,  1.87s/it]"
          ]
        },
        {
          "name": "stdout",
          "output_type": "stream",
          "text": [
            "Saving the model for epoch number 1\n"
          ]
        },
        {
          "name": "stderr",
          "output_type": "stream",
          "text": [
            "Current epoch number :  64%|██████▍   | 1749/2714 [41:05<22:39,  1.41s/it]"
          ]
        },
        {
          "name": "stdout",
          "output_type": "stream",
          "text": [
            "current accuracy : 0.5444642857142857\n",
            "current loss : 3.442061501775469\n"
          ]
        },
        {
          "name": "stderr",
          "output_type": "stream",
          "text": [
            "\rCurrent epoch number :  64%|██████▍   | 1750/2714 [41:08<30:09,  1.88s/it]"
          ]
        },
        {
          "name": "stdout",
          "output_type": "stream",
          "text": [
            "Saving the model for epoch number 1\n"
          ]
        },
        {
          "name": "stderr",
          "output_type": "stream",
          "text": [
            "Current epoch number :  74%|███████▎  | 1999/2714 [46:58<16:41,  1.40s/it]"
          ]
        },
        {
          "name": "stdout",
          "output_type": "stream",
          "text": [
            "current accuracy : 0.5497890625\n",
            "current loss : 3.392787834882736\n"
          ]
        },
        {
          "name": "stderr",
          "output_type": "stream",
          "text": [
            "\rCurrent epoch number :  74%|███████▎  | 2000/2714 [47:01<22:23,  1.88s/it]"
          ]
        },
        {
          "name": "stdout",
          "output_type": "stream",
          "text": [
            "Saving the model for epoch number 1\n"
          ]
        },
        {
          "name": "stderr",
          "output_type": "stream",
          "text": [
            "Current epoch number :  83%|████████▎ | 2249/2714 [52:52<10:55,  1.41s/it]"
          ]
        },
        {
          "name": "stdout",
          "output_type": "stream",
          "text": [
            "current accuracy : 0.5529444444444445\n",
            "current loss : 3.355032346036699\n"
          ]
        },
        {
          "name": "stderr",
          "output_type": "stream",
          "text": [
            "\rCurrent epoch number :  83%|████████▎ | 2250/2714 [52:55<14:41,  1.90s/it]"
          ]
        },
        {
          "name": "stdout",
          "output_type": "stream",
          "text": [
            "Saving the model for epoch number 1\n"
          ]
        },
        {
          "name": "stderr",
          "output_type": "stream",
          "text": [
            "Current epoch number :  92%|█████████▏| 2499/2714 [58:45<05:02,  1.41s/it]"
          ]
        },
        {
          "name": "stdout",
          "output_type": "stream",
          "text": [
            "current accuracy : 0.55543125\n",
            "current loss : 3.325522145175934\n"
          ]
        },
        {
          "name": "stderr",
          "output_type": "stream",
          "text": [
            "\rCurrent epoch number :  92%|█████████▏| 2500/2714 [58:51<10:11,  2.86s/it]"
          ]
        },
        {
          "name": "stdout",
          "output_type": "stream",
          "text": [
            "Saving the model for epoch number 1\n"
          ]
        },
        {
          "name": "stderr",
          "output_type": "stream",
          "text": [
            "Current epoch number : 100%|██████████| 2714/2714 [1:03:52<00:00,  1.41s/it]"
          ]
        },
        {
          "name": "stdout",
          "output_type": "stream",
          "text": [
            "Train Accuracy: 0.5581418109855937      Train Loss: 3.304104300790968\n"
          ]
        },
        {
          "name": "stderr",
          "output_type": "stream",
          "text": [
            "\n"
          ]
        }
      ],
      "source": [
        "#training\n",
        "EPOCHS = 1\n",
        "\n",
        "for epoch in range(EPOCHS):\n",
        "    print(\"epoch number is \" + str(epoch))\n",
        "    train_acc, train_loss = train(model, train_data_loader, epoch+1, optimizer1, loss_fn1, 'checkpoint_loss_inc.pth')\n",
        "    print(f\"Train Accuracy: {train_acc}      Train Loss: {train_loss}\")\n"
      ]
    },
    {
      "cell_type": "code",
      "execution_count": null,
      "metadata": {
        "colab": {
          "base_uri": "https://localhost:8080/"
        },
        "id": "rWm9MjaPOJje",
        "outputId": "98fc9b74-8e51-4924-c234-a698b499ed79"
      },
      "outputs": [
        {
          "name": "stderr",
          "output_type": "stream",
          "text": [
            "Running Evaluation: 100%|██████████| 186/186 [01:30<00:00,  2.07it/s]"
          ]
        },
        {
          "name": "stdout",
          "output_type": "stream",
          "text": [
            "Testing Accuracy: 0.5882056451612904 \n"
          ]
        },
        {
          "name": "stderr",
          "output_type": "stream",
          "text": [
            "\n"
          ]
        }
      ],
      "source": [
        "#testing\n",
        "#testing the model\n",
        "\n",
        "acc_list, test_acc = eval_model(model, test_data_loader)\n",
        "print(f\"Testing Accuracy: {test_acc} \" )"
      ]
    },
    {
      "cell_type": "markdown",
      "metadata": {
        "id": "7tEy9uX0OOZl"
      },
      "source": [
        "####Decreasing\n",
        "\n",
        "\n",
        "\n",
        "\n",
        "\n",
        "\n",
        "\n",
        "\n",
        "\n",
        "\n",
        "\n",
        "\n",
        "\n",
        "\n",
        "\n",
        "\n",
        "\n",
        "\n",
        "\n",
        "\n",
        "\n",
        "\n",
        "\n",
        "\n",
        "\n",
        "\n",
        "\n",
        "\n",
        "\n",
        "\n",
        "\n",
        "\n",
        "\n",
        "\n",
        "\n",
        "\n",
        "\n",
        "\n",
        "\n",
        "\n",
        "\n",
        "\n",
        "\n",
        "\n",
        "\n",
        "\n",
        "\n",
        "\n",
        "\n",
        " learning rate"
      ]
    },
    {
      "cell_type": "code",
      "execution_count": null,
      "metadata": {
        "colab": {
          "base_uri": "https://localhost:8080/"
        },
        "id": "4hHREWBtyuua",
        "outputId": "f3e0de12-c6bb-42d2-9a92-fa62df85e99a"
      },
      "outputs": [
        {
          "name": "stdout",
          "output_type": "stream",
          "text": [
            "Model is on CUDA (GPU).\n"
          ]
        }
      ],
      "source": [
        "#Decreasing the Learning rate\n",
        "model = QAModel()\n",
        "\n",
        "model = model.to('cuda')\n",
        "\n",
        "\n",
        "if next(model.parameters()).is_cuda:\n",
        "    print(\"Model is on CUDA (GPU).\")\n",
        "else:\n",
        "    print(\"Model is on CPU.\")"
      ]
    },
    {
      "cell_type": "code",
      "execution_count": null,
      "metadata": {
        "id": "pUrcUAouN40I"
      },
      "outputs": [],
      "source": [
        "learning_rate = 2e-6\n",
        "weight_decay = 2e-2\n",
        "gamma = 0.9\n",
        "optimizer1 = torch.optim.AdamW(model.parameters(), lr=learning_rate, weight_decay=weight_decay)\n",
        "loss_fn1 = nn.CrossEntropyLoss()\n",
        "scheduler = ExponentialLR(optimizer1, gamma=gamma)\n",
        "total_accuracy = []\n",
        "total_loss = []"
      ]
    },
    {
      "cell_type": "code",
      "execution_count": null,
      "metadata": {
        "colab": {
          "base_uri": "https://localhost:8080/"
        },
        "id": "8dw3rx-7OFpJ",
        "outputId": "77e59260-a4d7-4a89-c06b-33779f75c267"
      },
      "outputs": [
        {
          "name": "stdout",
          "output_type": "stream",
          "text": [
            "epoch number is 0\n"
          ]
        },
        {
          "name": "stderr",
          "output_type": "stream",
          "text": [
            "Current epoch number :   9%|▉         | 249/2714 [05:43<57:33,  1.40s/it]"
          ]
        },
        {
          "name": "stdout",
          "output_type": "stream",
          "text": [
            "current accuracy : 0.0515\n",
            "current loss : 9.892909648895264\n"
          ]
        },
        {
          "name": "stderr",
          "output_type": "stream",
          "text": [
            "\rCurrent epoch number :   9%|▉         | 250/2714 [05:46<1:17:20,  1.88s/it]"
          ]
        },
        {
          "name": "stdout",
          "output_type": "stream",
          "text": [
            "Saving the model for epoch number 1\n"
          ]
        },
        {
          "name": "stderr",
          "output_type": "stream",
          "text": [
            "Current epoch number :  18%|█▊        | 499/2714 [11:36<51:51,  1.40s/it]"
          ]
        },
        {
          "name": "stdout",
          "output_type": "stream",
          "text": [
            "current accuracy : 0.11334375\n",
            "current loss : 8.64912321472168\n"
          ]
        },
        {
          "name": "stderr",
          "output_type": "stream",
          "text": [
            "\rCurrent epoch number :  18%|█▊        | 500/2714 [11:39<1:10:10,  1.90s/it]"
          ]
        },
        {
          "name": "stdout",
          "output_type": "stream",
          "text": [
            "Saving the model for epoch number 1\n"
          ]
        },
        {
          "name": "stderr",
          "output_type": "stream",
          "text": [
            "Current epoch number :  28%|██▊       | 749/2714 [17:29<46:18,  1.41s/it]"
          ]
        },
        {
          "name": "stdout",
          "output_type": "stream",
          "text": [
            "current accuracy : 0.1764375\n",
            "current loss : 7.647636007944743\n"
          ]
        },
        {
          "name": "stderr",
          "output_type": "stream",
          "text": [
            "\rCurrent epoch number :  28%|██▊       | 750/2714 [17:32<1:02:30,  1.91s/it]"
          ]
        },
        {
          "name": "stdout",
          "output_type": "stream",
          "text": [
            "Saving the model for epoch number 1\n"
          ]
        },
        {
          "name": "stderr",
          "output_type": "stream",
          "text": [
            "Current epoch number :  37%|███▋      | 999/2714 [23:23<40:11,  1.41s/it]"
          ]
        },
        {
          "name": "stdout",
          "output_type": "stream",
          "text": [
            "current accuracy : 0.229453125\n",
            "current loss : 6.943855566501617\n"
          ]
        },
        {
          "name": "stderr",
          "output_type": "stream",
          "text": [
            "\rCurrent epoch number :  37%|███▋      | 1000/2714 [23:26<53:46,  1.88s/it]"
          ]
        },
        {
          "name": "stdout",
          "output_type": "stream",
          "text": [
            "Saving the model for epoch number 1\n"
          ]
        },
        {
          "name": "stderr",
          "output_type": "stream",
          "text": [
            "Current epoch number :  46%|████▌     | 1249/2714 [29:16<34:22,  1.41s/it]"
          ]
        },
        {
          "name": "stdout",
          "output_type": "stream",
          "text": [
            "current accuracy : 0.27165\n",
            "current loss : 6.434810050392151\n"
          ]
        },
        {
          "name": "stderr",
          "output_type": "stream",
          "text": [
            "\rCurrent epoch number :  46%|████▌     | 1250/2714 [29:19<46:27,  1.90s/it]"
          ]
        },
        {
          "name": "stdout",
          "output_type": "stream",
          "text": [
            "Saving the model for epoch number 1\n"
          ]
        },
        {
          "name": "stderr",
          "output_type": "stream",
          "text": [
            "Current epoch number :  55%|█████▌    | 1499/2714 [35:09<28:31,  1.41s/it]"
          ]
        },
        {
          "name": "stdout",
          "output_type": "stream",
          "text": [
            "current accuracy : 0.305625\n",
            "current loss : 6.040744129975637\n"
          ]
        },
        {
          "name": "stderr",
          "output_type": "stream",
          "text": [
            "\rCurrent epoch number :  55%|█████▌    | 1500/2714 [35:21<1:34:31,  4.67s/it]"
          ]
        },
        {
          "name": "stdout",
          "output_type": "stream",
          "text": [
            "Saving the model for epoch number 1\n"
          ]
        },
        {
          "name": "stderr",
          "output_type": "stream",
          "text": [
            "Current epoch number :  64%|██████▍   | 1749/2714 [41:12<22:41,  1.41s/it]"
          ]
        },
        {
          "name": "stdout",
          "output_type": "stream",
          "text": [
            "current accuracy : 0.33435714285714285\n",
            "current loss : 5.7212984051023215\n"
          ]
        },
        {
          "name": "stderr",
          "output_type": "stream",
          "text": [
            "\rCurrent epoch number :  64%|██████▍   | 1750/2714 [41:16<35:48,  2.23s/it]"
          ]
        },
        {
          "name": "stdout",
          "output_type": "stream",
          "text": [
            "Saving the model for epoch number 1\n"
          ]
        },
        {
          "name": "stderr",
          "output_type": "stream",
          "text": [
            "Current epoch number :  74%|███████▎  | 1999/2714 [47:06<16:51,  1.41s/it]"
          ]
        },
        {
          "name": "stdout",
          "output_type": "stream",
          "text": [
            "current accuracy : 0.3560625\n",
            "current loss : 5.476795455217362\n"
          ]
        },
        {
          "name": "stderr",
          "output_type": "stream",
          "text": [
            "\rCurrent epoch number :  74%|███████▎  | 2000/2714 [47:09<22:39,  1.90s/it]"
          ]
        },
        {
          "name": "stdout",
          "output_type": "stream",
          "text": [
            "Saving the model for epoch number 1\n"
          ]
        },
        {
          "name": "stderr",
          "output_type": "stream",
          "text": [
            "Current epoch number :  83%|████████▎ | 2249/2714 [53:00<10:54,  1.41s/it]"
          ]
        },
        {
          "name": "stdout",
          "output_type": "stream",
          "text": [
            "current accuracy : 0.3748888888888889\n",
            "current loss : 5.271304281340705\n"
          ]
        },
        {
          "name": "stderr",
          "output_type": "stream",
          "text": [
            "\rCurrent epoch number :  83%|████████▎ | 2250/2714 [53:03<15:11,  1.96s/it]"
          ]
        },
        {
          "name": "stdout",
          "output_type": "stream",
          "text": [
            "Saving the model for epoch number 1\n"
          ]
        },
        {
          "name": "stderr",
          "output_type": "stream",
          "text": [
            "Current epoch number :  92%|█████████▏| 2499/2714 [58:53<05:02,  1.41s/it]"
          ]
        },
        {
          "name": "stdout",
          "output_type": "stream",
          "text": [
            "current accuracy : 0.391125\n",
            "current loss : 5.097340122032166\n"
          ]
        },
        {
          "name": "stderr",
          "output_type": "stream",
          "text": [
            "\rCurrent epoch number :  92%|█████████▏| 2500/2714 [58:56<06:46,  1.90s/it]"
          ]
        },
        {
          "name": "stdout",
          "output_type": "stream",
          "text": [
            "Saving the model for epoch number 1\n"
          ]
        },
        {
          "name": "stderr",
          "output_type": "stream",
          "text": [
            "Current epoch number : 100%|██████████| 2714/2714 [1:03:56<00:00,  1.41s/it]"
          ]
        },
        {
          "name": "stdout",
          "output_type": "stream",
          "text": [
            "Train Accuracy: 0.4025262527650959      Train Loss: 4.968911172452883\n"
          ]
        },
        {
          "name": "stderr",
          "output_type": "stream",
          "text": [
            "\n"
          ]
        }
      ],
      "source": [
        "EPOCHS = 1\n",
        "\n",
        "for epoch in range(EPOCHS):\n",
        "    print(\"epoch number is \" + str(epoch))\n",
        "    train_acc, train_loss = train(model, train_data_loader, epoch+1, optimizer1, loss_fn1, 'checkpoint_loss_dec.pth')\n",
        "    print(f\"Train Accuracy: {train_acc}      Train Loss: {train_loss}\")\n"
      ]
    },
    {
      "cell_type": "code",
      "execution_count": null,
      "metadata": {
        "colab": {
          "base_uri": "https://localhost:8080/"
        },
        "id": "6-NJRNamOLVJ",
        "outputId": "8fd81bbf-51d4-468f-8409-4246308ff682"
      },
      "outputs": [
        {
          "name": "stderr",
          "output_type": "stream",
          "text": [
            "Running Evaluation: 100%|██████████| 186/186 [01:29<00:00,  2.07it/s]"
          ]
        },
        {
          "name": "stdout",
          "output_type": "stream",
          "text": [
            "Testing Accuracy: 0.5547715053763441 \n"
          ]
        },
        {
          "name": "stderr",
          "output_type": "stream",
          "text": [
            "\n"
          ]
        }
      ],
      "source": [
        "#testing\n",
        "#testing the model\n",
        "\n",
        "acc_list, test_acc = eval_model(model, test_data_loader)\n",
        "print(f\"Testing Accuracy: {test_acc} \" )"
      ]
    },
    {
      "cell_type": "markdown",
      "metadata": {
        "id": "YlJXncm1BgZ4"
      },
      "source": [
        "###Evaluation Metrics"
      ]
    },
    {
      "cell_type": "code",
      "execution_count": null,
      "metadata": {
        "id": "SmyJkpoSk34p"
      },
      "outputs": [],
      "source": []
    },
    {
      "cell_type": "code",
      "execution_count": null,
      "metadata": {
        "id": "D-CsIDzxBfjO"
      },
      "outputs": [],
      "source": []
    }
  ],
  "metadata": {
    "accelerator": "GPU",
    "colab": {
      "collapsed_sections": [
        "YxIqSeXvb514",
        "xqc1zLj_h5gn",
        "j4-o1Oq7qUli",
        "8jjUY2eWbCN-",
        "0utuWyj_yDMl",
        "KBXr3Bmqywoc"
      ],
      "provenance": []
    },
    "kernelspec": {
      "display_name": "Python 3",
      "name": "python3"
    },
    "language_info": {
      "name": "python"
    }
  },
  "nbformat": 4,
  "nbformat_minor": 0
}